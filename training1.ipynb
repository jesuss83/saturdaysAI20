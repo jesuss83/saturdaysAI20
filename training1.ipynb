{
 "cells": [
  {
   "cell_type": "code",
   "execution_count": 3,
   "metadata": {},
   "outputs": [
    {
     "name": "stderr",
     "output_type": "stream",
     "text": [
      "UsageError: Line magic function `%tensorflow_version` not found.\n"
     ]
    }
   ],
   "source": [
    "#%tensorflow_version 2.x\n",
    "#from __future__ import absolute_import, division, print_function, unicode_literals;\n"
   ]
  },
  {
   "cell_type": "code",
   "execution_count": 522,
   "metadata": {},
   "outputs": [
    {
     "name": "stdout",
     "output_type": "stream",
     "text": [
      "imported modules\n",
      "54720.0\n",
      "16777216.0\n"
     ]
    }
   ],
   "source": [
    "import numpy as np\n",
    "import pandas as pd\n",
    "import tensorflow as tf\n",
    "from tensorflow.keras import layers\n",
    "from tensorflow.keras.models import save_model\n",
    "from matplotlib import pyplot as plt\n",
    "import seaborn as sns\n",
    "import csv as csv\n",
    "import cv2\n",
    "\n",
    "\n",
    "# The following lines adjust the granularity of reporting. \n",
    "pd.options.display.max_rows = 10\n",
    "pd.options.display.float_format = \"{:.1f}\".format\n",
    "\n",
    "print ('imported modules');\n",
    "\n",
    "TOTAL_WIDTH = 288.00;\n",
    "TOTAL_HEIGHT = 190.00;\n",
    "TOTAL_PIXELS = TOTAL_WIDTH * TOTAL_HEIGHT;\n",
    "TOTAL_COLORS = 16777216.00;\n",
    "\n",
    "print (TOTAL_PIXELS);\n",
    "print (TOTAL_COLORS);\n"
   ]
  },
  {
   "cell_type": "code",
   "execution_count": 101,
   "metadata": {},
   "outputs": [],
   "source": [
    "train_df = pd.read_csv('training.csv');\n",
    "test_df = pd.read_csv('test.csv');\n",
    "\n",
    "\n"
   ]
  },
  {
   "cell_type": "code",
   "execution_count": 102,
   "metadata": {},
   "outputs": [
    {
     "data": {
      "text/html": [
       "<div>\n",
       "<style scoped>\n",
       "    .dataframe tbody tr th:only-of-type {\n",
       "        vertical-align: middle;\n",
       "    }\n",
       "\n",
       "    .dataframe tbody tr th {\n",
       "        vertical-align: top;\n",
       "    }\n",
       "\n",
       "    .dataframe thead th {\n",
       "        text-align: right;\n",
       "    }\n",
       "</style>\n",
       "<table border=\"1\" class=\"dataframe\">\n",
       "  <thead>\n",
       "    <tr style=\"text-align: right;\">\n",
       "      <th></th>\n",
       "      <th>Tile0</th>\n",
       "      <th>Tile1</th>\n",
       "      <th>Tile2</th>\n",
       "      <th>Tile3</th>\n",
       "      <th>Tile4</th>\n",
       "      <th>Tile5</th>\n",
       "      <th>Tile6</th>\n",
       "      <th>Tile7</th>\n",
       "      <th>Tile8</th>\n",
       "      <th>Tile9</th>\n",
       "      <th>...</th>\n",
       "      <th>Tile333</th>\n",
       "      <th>Tile334</th>\n",
       "      <th>Tile335</th>\n",
       "      <th>Tile336</th>\n",
       "      <th>Tile337</th>\n",
       "      <th>Tile338</th>\n",
       "      <th>Tile339</th>\n",
       "      <th>Tile340</th>\n",
       "      <th>Tile341</th>\n",
       "      <th>Center</th>\n",
       "    </tr>\n",
       "  </thead>\n",
       "  <tbody>\n",
       "    <tr>\n",
       "      <th>0</th>\n",
       "      <td>655616</td>\n",
       "      <td>13195527</td>\n",
       "      <td>14243584</td>\n",
       "      <td>985857</td>\n",
       "      <td>12933124</td>\n",
       "      <td>13063941</td>\n",
       "      <td>13654016</td>\n",
       "      <td>8211763</td>\n",
       "      <td>13850624</td>\n",
       "      <td>14572800</td>\n",
       "      <td>...</td>\n",
       "      <td>7970495</td>\n",
       "      <td>4548489</td>\n",
       "      <td>6194598</td>\n",
       "      <td>5997219</td>\n",
       "      <td>6063012</td>\n",
       "      <td>5602461</td>\n",
       "      <td>4879767</td>\n",
       "      <td>7312563</td>\n",
       "      <td>7904700</td>\n",
       "      <td>46548</td>\n",
       "    </tr>\n",
       "    <tr>\n",
       "      <th>1</th>\n",
       "      <td>655616</td>\n",
       "      <td>1116674</td>\n",
       "      <td>14111748</td>\n",
       "      <td>985857</td>\n",
       "      <td>13981440</td>\n",
       "      <td>1182467</td>\n",
       "      <td>13850624</td>\n",
       "      <td>8211763</td>\n",
       "      <td>13850624</td>\n",
       "      <td>5199707</td>\n",
       "      <td>...</td>\n",
       "      <td>7707323</td>\n",
       "      <td>6391463</td>\n",
       "      <td>5076115</td>\n",
       "      <td>5470875</td>\n",
       "      <td>7180979</td>\n",
       "      <td>6128550</td>\n",
       "      <td>4813974</td>\n",
       "      <td>4747920</td>\n",
       "      <td>7312563</td>\n",
       "      <td>45975</td>\n",
       "    </tr>\n",
       "    <tr>\n",
       "      <th>2</th>\n",
       "      <td>13588231</td>\n",
       "      <td>0</td>\n",
       "      <td>1508871</td>\n",
       "      <td>11640213</td>\n",
       "      <td>524288</td>\n",
       "      <td>13326343</td>\n",
       "      <td>5138051</td>\n",
       "      <td>655616</td>\n",
       "      <td>655360</td>\n",
       "      <td>656384</td>\n",
       "      <td>...</td>\n",
       "      <td>6590385</td>\n",
       "      <td>6985136</td>\n",
       "      <td>6654640</td>\n",
       "      <td>8233919</td>\n",
       "      <td>5995933</td>\n",
       "      <td>8298435</td>\n",
       "      <td>8298688</td>\n",
       "      <td>7773630</td>\n",
       "      <td>6720426</td>\n",
       "      <td>45394</td>\n",
       "    </tr>\n",
       "    <tr>\n",
       "      <th>3</th>\n",
       "      <td>13588231</td>\n",
       "      <td>0</td>\n",
       "      <td>1508871</td>\n",
       "      <td>11640213</td>\n",
       "      <td>524288</td>\n",
       "      <td>13326343</td>\n",
       "      <td>5138051</td>\n",
       "      <td>655616</td>\n",
       "      <td>655360</td>\n",
       "      <td>656384</td>\n",
       "      <td>...</td>\n",
       "      <td>8036286</td>\n",
       "      <td>6260906</td>\n",
       "      <td>6654640</td>\n",
       "      <td>8233919</td>\n",
       "      <td>5995933</td>\n",
       "      <td>8298435</td>\n",
       "      <td>8298688</td>\n",
       "      <td>7773630</td>\n",
       "      <td>6720426</td>\n",
       "      <td>45110</td>\n",
       "    </tr>\n",
       "    <tr>\n",
       "      <th>4</th>\n",
       "      <td>13588231</td>\n",
       "      <td>0</td>\n",
       "      <td>1508871</td>\n",
       "      <td>11640213</td>\n",
       "      <td>524288</td>\n",
       "      <td>13326343</td>\n",
       "      <td>5138051</td>\n",
       "      <td>655616</td>\n",
       "      <td>655360</td>\n",
       "      <td>656384</td>\n",
       "      <td>...</td>\n",
       "      <td>6128803</td>\n",
       "      <td>2773869</td>\n",
       "      <td>6523824</td>\n",
       "      <td>8233919</td>\n",
       "      <td>5995933</td>\n",
       "      <td>8298435</td>\n",
       "      <td>8298688</td>\n",
       "      <td>7773630</td>\n",
       "      <td>6720426</td>\n",
       "      <td>44824</td>\n",
       "    </tr>\n",
       "  </tbody>\n",
       "</table>\n",
       "<p>5 rows × 343 columns</p>\n",
       "</div>"
      ],
      "text/plain": [
       "      Tile0     Tile1     Tile2     Tile3     Tile4     Tile5     Tile6  \\\n",
       "0    655616  13195527  14243584    985857  12933124  13063941  13654016   \n",
       "1    655616   1116674  14111748    985857  13981440   1182467  13850624   \n",
       "2  13588231         0   1508871  11640213    524288  13326343   5138051   \n",
       "3  13588231         0   1508871  11640213    524288  13326343   5138051   \n",
       "4  13588231         0   1508871  11640213    524288  13326343   5138051   \n",
       "\n",
       "     Tile7     Tile8     Tile9  ...  Tile333  Tile334  Tile335  Tile336  \\\n",
       "0  8211763  13850624  14572800  ...  7970495  4548489  6194598  5997219   \n",
       "1  8211763  13850624   5199707  ...  7707323  6391463  5076115  5470875   \n",
       "2   655616    655360    656384  ...  6590385  6985136  6654640  8233919   \n",
       "3   655616    655360    656384  ...  8036286  6260906  6654640  8233919   \n",
       "4   655616    655360    656384  ...  6128803  2773869  6523824  8233919   \n",
       "\n",
       "   Tile337  Tile338  Tile339  Tile340  Tile341  Center  \n",
       "0  6063012  5602461  4879767  7312563  7904700   46548  \n",
       "1  7180979  6128550  4813974  4747920  7312563   45975  \n",
       "2  5995933  8298435  8298688  7773630  6720426   45394  \n",
       "3  5995933  8298435  8298688  7773630  6720426   45110  \n",
       "4  5995933  8298435  8298688  7773630  6720426   44824  \n",
       "\n",
       "[5 rows x 343 columns]"
      ]
     },
     "execution_count": 102,
     "metadata": {},
     "output_type": "execute_result"
    }
   ],
   "source": [
    "train_df.head()"
   ]
  },
  {
   "cell_type": "code",
   "execution_count": 103,
   "metadata": {},
   "outputs": [
    {
     "data": {
      "text/html": [
       "<div>\n",
       "<style scoped>\n",
       "    .dataframe tbody tr th:only-of-type {\n",
       "        vertical-align: middle;\n",
       "    }\n",
       "\n",
       "    .dataframe tbody tr th {\n",
       "        vertical-align: top;\n",
       "    }\n",
       "\n",
       "    .dataframe thead th {\n",
       "        text-align: right;\n",
       "    }\n",
       "</style>\n",
       "<table border=\"1\" class=\"dataframe\">\n",
       "  <thead>\n",
       "    <tr style=\"text-align: right;\">\n",
       "      <th></th>\n",
       "      <th>Tile0</th>\n",
       "      <th>Tile1</th>\n",
       "      <th>Tile2</th>\n",
       "      <th>Tile3</th>\n",
       "      <th>Tile4</th>\n",
       "      <th>Tile5</th>\n",
       "      <th>Tile6</th>\n",
       "      <th>Tile7</th>\n",
       "      <th>Tile8</th>\n",
       "      <th>Tile9</th>\n",
       "      <th>...</th>\n",
       "      <th>Tile333</th>\n",
       "      <th>Tile334</th>\n",
       "      <th>Tile335</th>\n",
       "      <th>Tile336</th>\n",
       "      <th>Tile337</th>\n",
       "      <th>Tile338</th>\n",
       "      <th>Tile339</th>\n",
       "      <th>Tile340</th>\n",
       "      <th>Tile341</th>\n",
       "      <th>Center</th>\n",
       "    </tr>\n",
       "  </thead>\n",
       "  <tbody>\n",
       "    <tr>\n",
       "      <th>0</th>\n",
       "      <td>3893654</td>\n",
       "      <td>4607342</td>\n",
       "      <td>5844480</td>\n",
       "      <td>9080717</td>\n",
       "      <td>7879975</td>\n",
       "      <td>6104576</td>\n",
       "      <td>6366209</td>\n",
       "      <td>6432256</td>\n",
       "      <td>6301184</td>\n",
       "      <td>7552035</td>\n",
       "      <td>...</td>\n",
       "      <td>1845285</td>\n",
       "      <td>4087637</td>\n",
       "      <td>2508826</td>\n",
       "      <td>2904332</td>\n",
       "      <td>2904077</td>\n",
       "      <td>3494925</td>\n",
       "      <td>3298569</td>\n",
       "      <td>2903816</td>\n",
       "      <td>6388879</td>\n",
       "      <td>35470</td>\n",
       "    </tr>\n",
       "    <tr>\n",
       "      <th>1</th>\n",
       "      <td>14112512</td>\n",
       "      <td>13850624</td>\n",
       "      <td>919818</td>\n",
       "      <td>524288</td>\n",
       "      <td>13916160</td>\n",
       "      <td>13850624</td>\n",
       "      <td>14113536</td>\n",
       "      <td>655616</td>\n",
       "      <td>524288</td>\n",
       "      <td>656384</td>\n",
       "      <td>...</td>\n",
       "      <td>1652567</td>\n",
       "      <td>4945815</td>\n",
       "      <td>3105154</td>\n",
       "      <td>5339804</td>\n",
       "      <td>3828618</td>\n",
       "      <td>6391977</td>\n",
       "      <td>4419730</td>\n",
       "      <td>4615566</td>\n",
       "      <td>4945299</td>\n",
       "      <td>41875</td>\n",
       "    </tr>\n",
       "    <tr>\n",
       "      <th>2</th>\n",
       "      <td>262144</td>\n",
       "      <td>262144</td>\n",
       "      <td>262144</td>\n",
       "      <td>393216</td>\n",
       "      <td>12209408</td>\n",
       "      <td>13261066</td>\n",
       "      <td>13327361</td>\n",
       "      <td>1050886</td>\n",
       "      <td>12471552</td>\n",
       "      <td>590336</td>\n",
       "      <td>...</td>\n",
       "      <td>6260129</td>\n",
       "      <td>8497091</td>\n",
       "      <td>6524333</td>\n",
       "      <td>8167872</td>\n",
       "      <td>7049905</td>\n",
       "      <td>7313077</td>\n",
       "      <td>7575989</td>\n",
       "      <td>7312817</td>\n",
       "      <td>7247024</td>\n",
       "      <td>38990</td>\n",
       "    </tr>\n",
       "    <tr>\n",
       "      <th>3</th>\n",
       "      <td>14244097</td>\n",
       "      <td>14113792</td>\n",
       "      <td>655360</td>\n",
       "      <td>524288</td>\n",
       "      <td>13589760</td>\n",
       "      <td>13981186</td>\n",
       "      <td>262144</td>\n",
       "      <td>7751744</td>\n",
       "      <td>14112512</td>\n",
       "      <td>590592</td>\n",
       "      <td>...</td>\n",
       "      <td>3756406</td>\n",
       "      <td>5075862</td>\n",
       "      <td>3753779</td>\n",
       "      <td>5405852</td>\n",
       "      <td>139075</td>\n",
       "      <td>2574697</td>\n",
       "      <td>6062498</td>\n",
       "      <td>5207448</td>\n",
       "      <td>5207448</td>\n",
       "      <td>40252</td>\n",
       "    </tr>\n",
       "    <tr>\n",
       "      <th>4</th>\n",
       "      <td>14112512</td>\n",
       "      <td>13981696</td>\n",
       "      <td>14244608</td>\n",
       "      <td>13915393</td>\n",
       "      <td>13981440</td>\n",
       "      <td>13981440</td>\n",
       "      <td>13588736</td>\n",
       "      <td>786432</td>\n",
       "      <td>13915904</td>\n",
       "      <td>14112002</td>\n",
       "      <td>...</td>\n",
       "      <td>4155785</td>\n",
       "      <td>1</td>\n",
       "      <td>4419216</td>\n",
       "      <td>4812690</td>\n",
       "      <td>270144</td>\n",
       "      <td>205121</td>\n",
       "      <td>6588842</td>\n",
       "      <td>5076887</td>\n",
       "      <td>5010839</td>\n",
       "      <td>14335</td>\n",
       "    </tr>\n",
       "  </tbody>\n",
       "</table>\n",
       "<p>5 rows × 343 columns</p>\n",
       "</div>"
      ],
      "text/plain": [
       "      Tile0     Tile1     Tile2     Tile3     Tile4     Tile5     Tile6  \\\n",
       "0   3893654   4607342   5844480   9080717   7879975   6104576   6366209   \n",
       "1  14112512  13850624    919818    524288  13916160  13850624  14113536   \n",
       "2    262144    262144    262144    393216  12209408  13261066  13327361   \n",
       "3  14244097  14113792    655360    524288  13589760  13981186    262144   \n",
       "4  14112512  13981696  14244608  13915393  13981440  13981440  13588736   \n",
       "\n",
       "     Tile7     Tile8     Tile9  ...  Tile333  Tile334  Tile335  Tile336  \\\n",
       "0  6432256   6301184   7552035  ...  1845285  4087637  2508826  2904332   \n",
       "1   655616    524288    656384  ...  1652567  4945815  3105154  5339804   \n",
       "2  1050886  12471552    590336  ...  6260129  8497091  6524333  8167872   \n",
       "3  7751744  14112512    590592  ...  3756406  5075862  3753779  5405852   \n",
       "4   786432  13915904  14112002  ...  4155785        1  4419216  4812690   \n",
       "\n",
       "   Tile337  Tile338  Tile339  Tile340  Tile341  Center  \n",
       "0  2904077  3494925  3298569  2903816  6388879   35470  \n",
       "1  3828618  6391977  4419730  4615566  4945299   41875  \n",
       "2  7049905  7313077  7575989  7312817  7247024   38990  \n",
       "3   139075  2574697  6062498  5207448  5207448   40252  \n",
       "4   270144   205121  6588842  5076887  5010839   14335  \n",
       "\n",
       "[5 rows x 343 columns]"
      ]
     },
     "execution_count": 103,
     "metadata": {},
     "output_type": "execute_result"
    }
   ],
   "source": [
    "test_df.head()    "
   ]
  },
  {
   "cell_type": "code",
   "execution_count": 104,
   "metadata": {},
   "outputs": [
    {
     "data": {
      "text/plain": [
       "Tile0      int64\n",
       "Tile1      int64\n",
       "Tile2      int64\n",
       "Tile3      int64\n",
       "Tile4      int64\n",
       "           ...  \n",
       "Tile338    int64\n",
       "Tile339    int64\n",
       "Tile340    int64\n",
       "Tile341    int64\n",
       "Center     int64\n",
       "Length: 343, dtype: object"
      ]
     },
     "execution_count": 104,
     "metadata": {},
     "output_type": "execute_result"
    }
   ],
   "source": [
    "train_df.dtypes"
   ]
  },
  {
   "cell_type": "code",
   "execution_count": 105,
   "metadata": {},
   "outputs": [
    {
     "name": "stdout",
     "output_type": "stream",
     "text": [
      "46548.0\n",
      "35470.0\n"
     ]
    }
   ],
   "source": [
    "train_df = train_df.astype(float)\n",
    "test_df =  test_df.astype(float);\n",
    "\n",
    "print (train_df['Center'][0])\n",
    "print (test_df['Center'][0])"
   ]
  },
  {
   "cell_type": "code",
   "execution_count": 106,
   "metadata": {},
   "outputs": [],
   "source": [
    "train_df.dtypes\n",
    "train_df['Center'] = train_df['Center'] / TOTAL_PIXELS;\n",
    "\n",
    "test_df.dtypes\n",
    "test_df['Center'] = test_df['Center'] / TOTAL_PIXELS;"
   ]
  },
  {
   "cell_type": "code",
   "execution_count": null,
   "metadata": {},
   "outputs": [],
   "source": []
  },
  {
   "cell_type": "code",
   "execution_count": 107,
   "metadata": {},
   "outputs": [
    {
     "name": "stdout",
     "output_type": "stream",
     "text": [
      "0.8506578947368421\n",
      "0.6482090643274854\n"
     ]
    }
   ],
   "source": [
    "print (train_df['Center'][0])\n",
    "print (test_df['Center'][0])"
   ]
  },
  {
   "cell_type": "code",
   "execution_count": 108,
   "metadata": {},
   "outputs": [
    {
     "name": "stdout",
     "output_type": "stream",
     "text": [
      "46548.0\n",
      "35470.0\n"
     ]
    }
   ],
   "source": [
    "originalPoint = train_df['Center'][0] * TOTAL_PIXELS;\n",
    "print (originalPoint)\n",
    "\n",
    "originalPoint = test_df['Center'][0] * TOTAL_PIXELS;\n",
    "print (originalPoint)\n"
   ]
  },
  {
   "cell_type": "code",
   "execution_count": 109,
   "metadata": {},
   "outputs": [],
   "source": [
    "for i in range(0,342):\n",
    "    colName = 'Tile'+str(i);\n",
    "    train_df[colName] = train_df[colName] / TOTAL_COLORS;\n",
    "    test_df[colName] = test_df[colName] / TOTAL_COLORS;"
   ]
  },
  {
   "cell_type": "code",
   "execution_count": 110,
   "metadata": {},
   "outputs": [
    {
     "name": "stdout",
     "output_type": "stream",
     "text": [
      "0.0390777587890625\n",
      "0.2320798635482788\n"
     ]
    }
   ],
   "source": [
    "print (train_df['Tile0'][0])\n",
    "print (test_df['Tile0'][0])"
   ]
  },
  {
   "cell_type": "code",
   "execution_count": 111,
   "metadata": {},
   "outputs": [
    {
     "name": "stdout",
     "output_type": "stream",
     "text": [
      "655616.0\n",
      "3893654.0\n"
     ]
    }
   ],
   "source": [
    "originalTile = train_df['Tile0'][0] * TOTAL_COLORS;\n",
    "print (originalTile);\n",
    "\n",
    "originalTile = test_df['Tile0'][0] * TOTAL_COLORS;\n",
    "print (originalTile);\n"
   ]
  },
  {
   "cell_type": "code",
   "execution_count": 112,
   "metadata": {},
   "outputs": [
    {
     "data": {
      "text/html": [
       "<div>\n",
       "<style scoped>\n",
       "    .dataframe tbody tr th:only-of-type {\n",
       "        vertical-align: middle;\n",
       "    }\n",
       "\n",
       "    .dataframe tbody tr th {\n",
       "        vertical-align: top;\n",
       "    }\n",
       "\n",
       "    .dataframe thead th {\n",
       "        text-align: right;\n",
       "    }\n",
       "</style>\n",
       "<table border=\"1\" class=\"dataframe\">\n",
       "  <thead>\n",
       "    <tr style=\"text-align: right;\">\n",
       "      <th></th>\n",
       "      <th>Tile0</th>\n",
       "      <th>Tile1</th>\n",
       "      <th>Tile2</th>\n",
       "      <th>Tile3</th>\n",
       "      <th>Tile4</th>\n",
       "      <th>Tile5</th>\n",
       "      <th>Tile6</th>\n",
       "      <th>Tile7</th>\n",
       "      <th>Tile8</th>\n",
       "      <th>Tile9</th>\n",
       "      <th>...</th>\n",
       "      <th>Tile333</th>\n",
       "      <th>Tile334</th>\n",
       "      <th>Tile335</th>\n",
       "      <th>Tile336</th>\n",
       "      <th>Tile337</th>\n",
       "      <th>Tile338</th>\n",
       "      <th>Tile339</th>\n",
       "      <th>Tile340</th>\n",
       "      <th>Tile341</th>\n",
       "      <th>Center</th>\n",
       "    </tr>\n",
       "  </thead>\n",
       "  <tbody>\n",
       "    <tr>\n",
       "      <th>0</th>\n",
       "      <td>0.0</td>\n",
       "      <td>0.8</td>\n",
       "      <td>0.8</td>\n",
       "      <td>0.1</td>\n",
       "      <td>0.8</td>\n",
       "      <td>0.8</td>\n",
       "      <td>0.8</td>\n",
       "      <td>0.5</td>\n",
       "      <td>0.8</td>\n",
       "      <td>0.9</td>\n",
       "      <td>...</td>\n",
       "      <td>0.5</td>\n",
       "      <td>0.3</td>\n",
       "      <td>0.4</td>\n",
       "      <td>0.4</td>\n",
       "      <td>0.4</td>\n",
       "      <td>0.3</td>\n",
       "      <td>0.3</td>\n",
       "      <td>0.4</td>\n",
       "      <td>0.5</td>\n",
       "      <td>0.9</td>\n",
       "    </tr>\n",
       "    <tr>\n",
       "      <th>1</th>\n",
       "      <td>0.0</td>\n",
       "      <td>0.1</td>\n",
       "      <td>0.8</td>\n",
       "      <td>0.1</td>\n",
       "      <td>0.8</td>\n",
       "      <td>0.1</td>\n",
       "      <td>0.8</td>\n",
       "      <td>0.5</td>\n",
       "      <td>0.8</td>\n",
       "      <td>0.3</td>\n",
       "      <td>...</td>\n",
       "      <td>0.5</td>\n",
       "      <td>0.4</td>\n",
       "      <td>0.3</td>\n",
       "      <td>0.3</td>\n",
       "      <td>0.4</td>\n",
       "      <td>0.4</td>\n",
       "      <td>0.3</td>\n",
       "      <td>0.3</td>\n",
       "      <td>0.4</td>\n",
       "      <td>0.8</td>\n",
       "    </tr>\n",
       "    <tr>\n",
       "      <th>2</th>\n",
       "      <td>0.8</td>\n",
       "      <td>0.0</td>\n",
       "      <td>0.1</td>\n",
       "      <td>0.7</td>\n",
       "      <td>0.0</td>\n",
       "      <td>0.8</td>\n",
       "      <td>0.3</td>\n",
       "      <td>0.0</td>\n",
       "      <td>0.0</td>\n",
       "      <td>0.0</td>\n",
       "      <td>...</td>\n",
       "      <td>0.4</td>\n",
       "      <td>0.4</td>\n",
       "      <td>0.4</td>\n",
       "      <td>0.5</td>\n",
       "      <td>0.4</td>\n",
       "      <td>0.5</td>\n",
       "      <td>0.5</td>\n",
       "      <td>0.5</td>\n",
       "      <td>0.4</td>\n",
       "      <td>0.8</td>\n",
       "    </tr>\n",
       "    <tr>\n",
       "      <th>3</th>\n",
       "      <td>0.8</td>\n",
       "      <td>0.0</td>\n",
       "      <td>0.1</td>\n",
       "      <td>0.7</td>\n",
       "      <td>0.0</td>\n",
       "      <td>0.8</td>\n",
       "      <td>0.3</td>\n",
       "      <td>0.0</td>\n",
       "      <td>0.0</td>\n",
       "      <td>0.0</td>\n",
       "      <td>...</td>\n",
       "      <td>0.5</td>\n",
       "      <td>0.4</td>\n",
       "      <td>0.4</td>\n",
       "      <td>0.5</td>\n",
       "      <td>0.4</td>\n",
       "      <td>0.5</td>\n",
       "      <td>0.5</td>\n",
       "      <td>0.5</td>\n",
       "      <td>0.4</td>\n",
       "      <td>0.8</td>\n",
       "    </tr>\n",
       "    <tr>\n",
       "      <th>4</th>\n",
       "      <td>0.8</td>\n",
       "      <td>0.0</td>\n",
       "      <td>0.1</td>\n",
       "      <td>0.7</td>\n",
       "      <td>0.0</td>\n",
       "      <td>0.8</td>\n",
       "      <td>0.3</td>\n",
       "      <td>0.0</td>\n",
       "      <td>0.0</td>\n",
       "      <td>0.0</td>\n",
       "      <td>...</td>\n",
       "      <td>0.4</td>\n",
       "      <td>0.2</td>\n",
       "      <td>0.4</td>\n",
       "      <td>0.5</td>\n",
       "      <td>0.4</td>\n",
       "      <td>0.5</td>\n",
       "      <td>0.5</td>\n",
       "      <td>0.5</td>\n",
       "      <td>0.4</td>\n",
       "      <td>0.8</td>\n",
       "    </tr>\n",
       "  </tbody>\n",
       "</table>\n",
       "<p>5 rows × 343 columns</p>\n",
       "</div>"
      ],
      "text/plain": [
       "   Tile0  Tile1  Tile2  Tile3  Tile4  Tile5  Tile6  Tile7  Tile8  Tile9  ...  \\\n",
       "0    0.0    0.8    0.8    0.1    0.8    0.8    0.8    0.5    0.8    0.9  ...   \n",
       "1    0.0    0.1    0.8    0.1    0.8    0.1    0.8    0.5    0.8    0.3  ...   \n",
       "2    0.8    0.0    0.1    0.7    0.0    0.8    0.3    0.0    0.0    0.0  ...   \n",
       "3    0.8    0.0    0.1    0.7    0.0    0.8    0.3    0.0    0.0    0.0  ...   \n",
       "4    0.8    0.0    0.1    0.7    0.0    0.8    0.3    0.0    0.0    0.0  ...   \n",
       "\n",
       "   Tile333  Tile334  Tile335  Tile336  Tile337  Tile338  Tile339  Tile340  \\\n",
       "0      0.5      0.3      0.4      0.4      0.4      0.3      0.3      0.4   \n",
       "1      0.5      0.4      0.3      0.3      0.4      0.4      0.3      0.3   \n",
       "2      0.4      0.4      0.4      0.5      0.4      0.5      0.5      0.5   \n",
       "3      0.5      0.4      0.4      0.5      0.4      0.5      0.5      0.5   \n",
       "4      0.4      0.2      0.4      0.5      0.4      0.5      0.5      0.5   \n",
       "\n",
       "   Tile341  Center  \n",
       "0      0.5     0.9  \n",
       "1      0.4     0.8  \n",
       "2      0.4     0.8  \n",
       "3      0.4     0.8  \n",
       "4      0.4     0.8  \n",
       "\n",
       "[5 rows x 343 columns]"
      ]
     },
     "execution_count": 112,
     "metadata": {},
     "output_type": "execute_result"
    }
   ],
   "source": [
    "train_df.head()"
   ]
  },
  {
   "cell_type": "code",
   "execution_count": 113,
   "metadata": {},
   "outputs": [
    {
     "data": {
      "text/html": [
       "<div>\n",
       "<style scoped>\n",
       "    .dataframe tbody tr th:only-of-type {\n",
       "        vertical-align: middle;\n",
       "    }\n",
       "\n",
       "    .dataframe tbody tr th {\n",
       "        vertical-align: top;\n",
       "    }\n",
       "\n",
       "    .dataframe thead th {\n",
       "        text-align: right;\n",
       "    }\n",
       "</style>\n",
       "<table border=\"1\" class=\"dataframe\">\n",
       "  <thead>\n",
       "    <tr style=\"text-align: right;\">\n",
       "      <th></th>\n",
       "      <th>Tile0</th>\n",
       "      <th>Tile1</th>\n",
       "      <th>Tile2</th>\n",
       "      <th>Tile3</th>\n",
       "      <th>Tile4</th>\n",
       "      <th>Tile5</th>\n",
       "      <th>Tile6</th>\n",
       "      <th>Tile7</th>\n",
       "      <th>Tile8</th>\n",
       "      <th>Tile9</th>\n",
       "      <th>...</th>\n",
       "      <th>Tile333</th>\n",
       "      <th>Tile334</th>\n",
       "      <th>Tile335</th>\n",
       "      <th>Tile336</th>\n",
       "      <th>Tile337</th>\n",
       "      <th>Tile338</th>\n",
       "      <th>Tile339</th>\n",
       "      <th>Tile340</th>\n",
       "      <th>Tile341</th>\n",
       "      <th>Center</th>\n",
       "    </tr>\n",
       "  </thead>\n",
       "  <tbody>\n",
       "    <tr>\n",
       "      <th>0</th>\n",
       "      <td>0.2</td>\n",
       "      <td>0.3</td>\n",
       "      <td>0.3</td>\n",
       "      <td>0.5</td>\n",
       "      <td>0.5</td>\n",
       "      <td>0.4</td>\n",
       "      <td>0.4</td>\n",
       "      <td>0.4</td>\n",
       "      <td>0.4</td>\n",
       "      <td>0.5</td>\n",
       "      <td>...</td>\n",
       "      <td>0.1</td>\n",
       "      <td>0.2</td>\n",
       "      <td>0.1</td>\n",
       "      <td>0.2</td>\n",
       "      <td>0.2</td>\n",
       "      <td>0.2</td>\n",
       "      <td>0.2</td>\n",
       "      <td>0.2</td>\n",
       "      <td>0.4</td>\n",
       "      <td>0.6</td>\n",
       "    </tr>\n",
       "    <tr>\n",
       "      <th>1</th>\n",
       "      <td>0.8</td>\n",
       "      <td>0.8</td>\n",
       "      <td>0.1</td>\n",
       "      <td>0.0</td>\n",
       "      <td>0.8</td>\n",
       "      <td>0.8</td>\n",
       "      <td>0.8</td>\n",
       "      <td>0.0</td>\n",
       "      <td>0.0</td>\n",
       "      <td>0.0</td>\n",
       "      <td>...</td>\n",
       "      <td>0.1</td>\n",
       "      <td>0.3</td>\n",
       "      <td>0.2</td>\n",
       "      <td>0.3</td>\n",
       "      <td>0.2</td>\n",
       "      <td>0.4</td>\n",
       "      <td>0.3</td>\n",
       "      <td>0.3</td>\n",
       "      <td>0.3</td>\n",
       "      <td>0.8</td>\n",
       "    </tr>\n",
       "    <tr>\n",
       "      <th>2</th>\n",
       "      <td>0.0</td>\n",
       "      <td>0.0</td>\n",
       "      <td>0.0</td>\n",
       "      <td>0.0</td>\n",
       "      <td>0.7</td>\n",
       "      <td>0.8</td>\n",
       "      <td>0.8</td>\n",
       "      <td>0.1</td>\n",
       "      <td>0.7</td>\n",
       "      <td>0.0</td>\n",
       "      <td>...</td>\n",
       "      <td>0.4</td>\n",
       "      <td>0.5</td>\n",
       "      <td>0.4</td>\n",
       "      <td>0.5</td>\n",
       "      <td>0.4</td>\n",
       "      <td>0.4</td>\n",
       "      <td>0.5</td>\n",
       "      <td>0.4</td>\n",
       "      <td>0.4</td>\n",
       "      <td>0.7</td>\n",
       "    </tr>\n",
       "    <tr>\n",
       "      <th>3</th>\n",
       "      <td>0.8</td>\n",
       "      <td>0.8</td>\n",
       "      <td>0.0</td>\n",
       "      <td>0.0</td>\n",
       "      <td>0.8</td>\n",
       "      <td>0.8</td>\n",
       "      <td>0.0</td>\n",
       "      <td>0.5</td>\n",
       "      <td>0.8</td>\n",
       "      <td>0.0</td>\n",
       "      <td>...</td>\n",
       "      <td>0.2</td>\n",
       "      <td>0.3</td>\n",
       "      <td>0.2</td>\n",
       "      <td>0.3</td>\n",
       "      <td>0.0</td>\n",
       "      <td>0.2</td>\n",
       "      <td>0.4</td>\n",
       "      <td>0.3</td>\n",
       "      <td>0.3</td>\n",
       "      <td>0.7</td>\n",
       "    </tr>\n",
       "    <tr>\n",
       "      <th>4</th>\n",
       "      <td>0.8</td>\n",
       "      <td>0.8</td>\n",
       "      <td>0.8</td>\n",
       "      <td>0.8</td>\n",
       "      <td>0.8</td>\n",
       "      <td>0.8</td>\n",
       "      <td>0.8</td>\n",
       "      <td>0.0</td>\n",
       "      <td>0.8</td>\n",
       "      <td>0.8</td>\n",
       "      <td>...</td>\n",
       "      <td>0.2</td>\n",
       "      <td>0.0</td>\n",
       "      <td>0.3</td>\n",
       "      <td>0.3</td>\n",
       "      <td>0.0</td>\n",
       "      <td>0.0</td>\n",
       "      <td>0.4</td>\n",
       "      <td>0.3</td>\n",
       "      <td>0.3</td>\n",
       "      <td>0.3</td>\n",
       "    </tr>\n",
       "  </tbody>\n",
       "</table>\n",
       "<p>5 rows × 343 columns</p>\n",
       "</div>"
      ],
      "text/plain": [
       "   Tile0  Tile1  Tile2  Tile3  Tile4  Tile5  Tile6  Tile7  Tile8  Tile9  ...  \\\n",
       "0    0.2    0.3    0.3    0.5    0.5    0.4    0.4    0.4    0.4    0.5  ...   \n",
       "1    0.8    0.8    0.1    0.0    0.8    0.8    0.8    0.0    0.0    0.0  ...   \n",
       "2    0.0    0.0    0.0    0.0    0.7    0.8    0.8    0.1    0.7    0.0  ...   \n",
       "3    0.8    0.8    0.0    0.0    0.8    0.8    0.0    0.5    0.8    0.0  ...   \n",
       "4    0.8    0.8    0.8    0.8    0.8    0.8    0.8    0.0    0.8    0.8  ...   \n",
       "\n",
       "   Tile333  Tile334  Tile335  Tile336  Tile337  Tile338  Tile339  Tile340  \\\n",
       "0      0.1      0.2      0.1      0.2      0.2      0.2      0.2      0.2   \n",
       "1      0.1      0.3      0.2      0.3      0.2      0.4      0.3      0.3   \n",
       "2      0.4      0.5      0.4      0.5      0.4      0.4      0.5      0.4   \n",
       "3      0.2      0.3      0.2      0.3      0.0      0.2      0.4      0.3   \n",
       "4      0.2      0.0      0.3      0.3      0.0      0.0      0.4      0.3   \n",
       "\n",
       "   Tile341  Center  \n",
       "0      0.4     0.6  \n",
       "1      0.3     0.8  \n",
       "2      0.4     0.7  \n",
       "3      0.3     0.7  \n",
       "4      0.3     0.3  \n",
       "\n",
       "[5 rows x 343 columns]"
      ]
     },
     "execution_count": 113,
     "metadata": {},
     "output_type": "execute_result"
    }
   ],
   "source": [
    "test_df.head()"
   ]
  },
  {
   "cell_type": "code",
   "execution_count": 114,
   "metadata": {},
   "outputs": [
    {
     "name": "stdout",
     "output_type": "stream",
     "text": [
      "data norm finished\n"
     ]
    }
   ],
   "source": [
    "print ('data norm finished');"
   ]
  },
  {
   "cell_type": "code",
   "execution_count": 115,
   "metadata": {},
   "outputs": [],
   "source": [
    "train_df = train_df.reindex(np.random.permutation(train_df.index)); # shuffle the examples\n"
   ]
  },
  {
   "cell_type": "code",
   "execution_count": 116,
   "metadata": {},
   "outputs": [
    {
     "data": {
      "text/html": [
       "<div>\n",
       "<style scoped>\n",
       "    .dataframe tbody tr th:only-of-type {\n",
       "        vertical-align: middle;\n",
       "    }\n",
       "\n",
       "    .dataframe tbody tr th {\n",
       "        vertical-align: top;\n",
       "    }\n",
       "\n",
       "    .dataframe thead th {\n",
       "        text-align: right;\n",
       "    }\n",
       "</style>\n",
       "<table border=\"1\" class=\"dataframe\">\n",
       "  <thead>\n",
       "    <tr style=\"text-align: right;\">\n",
       "      <th></th>\n",
       "      <th>Tile0</th>\n",
       "      <th>Tile1</th>\n",
       "      <th>Tile2</th>\n",
       "      <th>Tile3</th>\n",
       "      <th>Tile4</th>\n",
       "      <th>Tile5</th>\n",
       "      <th>Tile6</th>\n",
       "      <th>Tile7</th>\n",
       "      <th>Tile8</th>\n",
       "      <th>Tile9</th>\n",
       "      <th>...</th>\n",
       "      <th>Tile333</th>\n",
       "      <th>Tile334</th>\n",
       "      <th>Tile335</th>\n",
       "      <th>Tile336</th>\n",
       "      <th>Tile337</th>\n",
       "      <th>Tile338</th>\n",
       "      <th>Tile339</th>\n",
       "      <th>Tile340</th>\n",
       "      <th>Tile341</th>\n",
       "      <th>Center</th>\n",
       "    </tr>\n",
       "  </thead>\n",
       "  <tbody>\n",
       "    <tr>\n",
       "      <th>928</th>\n",
       "      <td>0.4</td>\n",
       "      <td>0.4</td>\n",
       "      <td>0.4</td>\n",
       "      <td>0.4</td>\n",
       "      <td>0.5</td>\n",
       "      <td>0.4</td>\n",
       "      <td>0.4</td>\n",
       "      <td>0.4</td>\n",
       "      <td>0.4</td>\n",
       "      <td>0.4</td>\n",
       "      <td>...</td>\n",
       "      <td>0.2</td>\n",
       "      <td>0.2</td>\n",
       "      <td>0.1</td>\n",
       "      <td>0.1</td>\n",
       "      <td>0.0</td>\n",
       "      <td>0.1</td>\n",
       "      <td>0.1</td>\n",
       "      <td>0.1</td>\n",
       "      <td>0.1</td>\n",
       "      <td>0.6</td>\n",
       "    </tr>\n",
       "    <tr>\n",
       "      <th>561</th>\n",
       "      <td>0.1</td>\n",
       "      <td>0.5</td>\n",
       "      <td>0.4</td>\n",
       "      <td>0.5</td>\n",
       "      <td>0.3</td>\n",
       "      <td>0.3</td>\n",
       "      <td>0.4</td>\n",
       "      <td>0.3</td>\n",
       "      <td>0.3</td>\n",
       "      <td>0.4</td>\n",
       "      <td>...</td>\n",
       "      <td>0.0</td>\n",
       "      <td>0.0</td>\n",
       "      <td>0.0</td>\n",
       "      <td>0.0</td>\n",
       "      <td>0.0</td>\n",
       "      <td>0.0</td>\n",
       "      <td>0.0</td>\n",
       "      <td>0.0</td>\n",
       "      <td>0.0</td>\n",
       "      <td>0.4</td>\n",
       "    </tr>\n",
       "    <tr>\n",
       "      <th>595</th>\n",
       "      <td>0.8</td>\n",
       "      <td>0.7</td>\n",
       "      <td>0.0</td>\n",
       "      <td>0.0</td>\n",
       "      <td>0.1</td>\n",
       "      <td>0.8</td>\n",
       "      <td>0.3</td>\n",
       "      <td>0.0</td>\n",
       "      <td>0.0</td>\n",
       "      <td>0.0</td>\n",
       "      <td>...</td>\n",
       "      <td>0.4</td>\n",
       "      <td>0.4</td>\n",
       "      <td>0.4</td>\n",
       "      <td>0.5</td>\n",
       "      <td>0.4</td>\n",
       "      <td>0.5</td>\n",
       "      <td>0.4</td>\n",
       "      <td>0.5</td>\n",
       "      <td>0.4</td>\n",
       "      <td>0.7</td>\n",
       "    </tr>\n",
       "    <tr>\n",
       "      <th>926</th>\n",
       "      <td>0.4</td>\n",
       "      <td>0.4</td>\n",
       "      <td>0.4</td>\n",
       "      <td>0.4</td>\n",
       "      <td>0.5</td>\n",
       "      <td>0.4</td>\n",
       "      <td>0.5</td>\n",
       "      <td>0.4</td>\n",
       "      <td>0.4</td>\n",
       "      <td>0.5</td>\n",
       "      <td>...</td>\n",
       "      <td>0.2</td>\n",
       "      <td>0.2</td>\n",
       "      <td>0.1</td>\n",
       "      <td>0.2</td>\n",
       "      <td>0.4</td>\n",
       "      <td>0.1</td>\n",
       "      <td>0.1</td>\n",
       "      <td>0.1</td>\n",
       "      <td>0.1</td>\n",
       "      <td>0.6</td>\n",
       "    </tr>\n",
       "    <tr>\n",
       "      <th>931</th>\n",
       "      <td>0.2</td>\n",
       "      <td>0.2</td>\n",
       "      <td>0.2</td>\n",
       "      <td>0.2</td>\n",
       "      <td>0.2</td>\n",
       "      <td>0.2</td>\n",
       "      <td>0.2</td>\n",
       "      <td>0.2</td>\n",
       "      <td>0.2</td>\n",
       "      <td>0.2</td>\n",
       "      <td>...</td>\n",
       "      <td>0.1</td>\n",
       "      <td>0.1</td>\n",
       "      <td>0.0</td>\n",
       "      <td>0.2</td>\n",
       "      <td>0.0</td>\n",
       "      <td>0.1</td>\n",
       "      <td>0.0</td>\n",
       "      <td>0.1</td>\n",
       "      <td>0.1</td>\n",
       "      <td>0.7</td>\n",
       "    </tr>\n",
       "  </tbody>\n",
       "</table>\n",
       "<p>5 rows × 343 columns</p>\n",
       "</div>"
      ],
      "text/plain": [
       "     Tile0  Tile1  Tile2  Tile3  Tile4  Tile5  Tile6  Tile7  Tile8  Tile9  \\\n",
       "928    0.4    0.4    0.4    0.4    0.5    0.4    0.4    0.4    0.4    0.4   \n",
       "561    0.1    0.5    0.4    0.5    0.3    0.3    0.4    0.3    0.3    0.4   \n",
       "595    0.8    0.7    0.0    0.0    0.1    0.8    0.3    0.0    0.0    0.0   \n",
       "926    0.4    0.4    0.4    0.4    0.5    0.4    0.5    0.4    0.4    0.5   \n",
       "931    0.2    0.2    0.2    0.2    0.2    0.2    0.2    0.2    0.2    0.2   \n",
       "\n",
       "     ...  Tile333  Tile334  Tile335  Tile336  Tile337  Tile338  Tile339  \\\n",
       "928  ...      0.2      0.2      0.1      0.1      0.0      0.1      0.1   \n",
       "561  ...      0.0      0.0      0.0      0.0      0.0      0.0      0.0   \n",
       "595  ...      0.4      0.4      0.4      0.5      0.4      0.5      0.4   \n",
       "926  ...      0.2      0.2      0.1      0.2      0.4      0.1      0.1   \n",
       "931  ...      0.1      0.1      0.0      0.2      0.0      0.1      0.0   \n",
       "\n",
       "     Tile340  Tile341  Center  \n",
       "928      0.1      0.1     0.6  \n",
       "561      0.0      0.0     0.4  \n",
       "595      0.5      0.4     0.7  \n",
       "926      0.1      0.1     0.6  \n",
       "931      0.1      0.1     0.7  \n",
       "\n",
       "[5 rows x 343 columns]"
      ]
     },
     "execution_count": 116,
     "metadata": {},
     "output_type": "execute_result"
    }
   ],
   "source": [
    "train_df.head()"
   ]
  },
  {
   "cell_type": "code",
   "execution_count": 117,
   "metadata": {},
   "outputs": [
    {
     "name": "stdout",
     "output_type": "stream",
     "text": [
      "13653505.0\n",
      "3893654.0\n",
      "9154191.120467836\n"
     ]
    }
   ],
   "source": [
    "originalTile = train_df['Tile6'][344] * TOTAL_COLORS;\n",
    "print (originalTile);\n",
    "\n",
    "originalTile = test_df['Tile0'][0] * TOTAL_COLORS;\n",
    "print (originalTile);\n",
    "\n",
    "originalTile = train_df['Center'][344] * TOTAL_COLORS;\n",
    "print (originalTile);\n",
    "\n"
   ]
  },
  {
   "cell_type": "code",
   "execution_count": 118,
   "metadata": {},
   "outputs": [
    {
     "name": "stdout",
     "output_type": "stream",
     "text": [
      "0.8138123154640198\n"
     ]
    }
   ],
   "source": [
    "print (train_df['Tile6'][344]);"
   ]
  },
  {
   "cell_type": "code",
   "execution_count": 119,
   "metadata": {},
   "outputs": [],
   "source": [
    "def df_to_dataset(dataframe, shuffle=True, batch_size=32):\n",
    "  dataframe = dataframe.copy()\n",
    "  labels = dataframe.pop('Center')\n",
    "  ds = tf.data.Dataset.from_tensor_slices((dict(dataframe), labels))\n",
    "  if shuffle:\n",
    "    ds = ds.shuffle(buffer_size=len(dataframe))\n",
    "  ds = ds.batch(batch_size)\n",
    "  return ds"
   ]
  },
  {
   "cell_type": "code",
   "execution_count": 120,
   "metadata": {},
   "outputs": [],
   "source": [
    "train_ds = df_to_dataset(train_df,True,32);\n",
    "test_ds = df_to_dataset(test_df,False,32);\n"
   ]
  },
  {
   "cell_type": "code",
   "execution_count": 121,
   "metadata": {},
   "outputs": [
    {
     "name": "stdout",
     "output_type": "stream",
     "text": [
      "Every feature: ['Tile0', 'Tile1', 'Tile2', 'Tile3', 'Tile4', 'Tile5', 'Tile6', 'Tile7', 'Tile8', 'Tile9', 'Tile10', 'Tile11', 'Tile12', 'Tile13', 'Tile14', 'Tile15', 'Tile16', 'Tile17', 'Tile18', 'Tile19', 'Tile20', 'Tile21', 'Tile22', 'Tile23', 'Tile24', 'Tile25', 'Tile26', 'Tile27', 'Tile28', 'Tile29', 'Tile30', 'Tile31', 'Tile32', 'Tile33', 'Tile34', 'Tile35', 'Tile36', 'Tile37', 'Tile38', 'Tile39', 'Tile40', 'Tile41', 'Tile42', 'Tile43', 'Tile44', 'Tile45', 'Tile46', 'Tile47', 'Tile48', 'Tile49', 'Tile50', 'Tile51', 'Tile52', 'Tile53', 'Tile54', 'Tile55', 'Tile56', 'Tile57', 'Tile58', 'Tile59', 'Tile60', 'Tile61', 'Tile62', 'Tile63', 'Tile64', 'Tile65', 'Tile66', 'Tile67', 'Tile68', 'Tile69', 'Tile70', 'Tile71', 'Tile72', 'Tile73', 'Tile74', 'Tile75', 'Tile76', 'Tile77', 'Tile78', 'Tile79', 'Tile80', 'Tile81', 'Tile82', 'Tile83', 'Tile84', 'Tile85', 'Tile86', 'Tile87', 'Tile88', 'Tile89', 'Tile90', 'Tile91', 'Tile92', 'Tile93', 'Tile94', 'Tile95', 'Tile96', 'Tile97', 'Tile98', 'Tile99', 'Tile100', 'Tile101', 'Tile102', 'Tile103', 'Tile104', 'Tile105', 'Tile106', 'Tile107', 'Tile108', 'Tile109', 'Tile110', 'Tile111', 'Tile112', 'Tile113', 'Tile114', 'Tile115', 'Tile116', 'Tile117', 'Tile118', 'Tile119', 'Tile120', 'Tile121', 'Tile122', 'Tile123', 'Tile124', 'Tile125', 'Tile126', 'Tile127', 'Tile128', 'Tile129', 'Tile130', 'Tile131', 'Tile132', 'Tile133', 'Tile134', 'Tile135', 'Tile136', 'Tile137', 'Tile138', 'Tile139', 'Tile140', 'Tile141', 'Tile142', 'Tile143', 'Tile144', 'Tile145', 'Tile146', 'Tile147', 'Tile148', 'Tile149', 'Tile150', 'Tile151', 'Tile152', 'Tile153', 'Tile154', 'Tile155', 'Tile156', 'Tile157', 'Tile158', 'Tile159', 'Tile160', 'Tile161', 'Tile162', 'Tile163', 'Tile164', 'Tile165', 'Tile166', 'Tile167', 'Tile168', 'Tile169', 'Tile170', 'Tile171', 'Tile172', 'Tile173', 'Tile174', 'Tile175', 'Tile176', 'Tile177', 'Tile178', 'Tile179', 'Tile180', 'Tile181', 'Tile182', 'Tile183', 'Tile184', 'Tile185', 'Tile186', 'Tile187', 'Tile188', 'Tile189', 'Tile190', 'Tile191', 'Tile192', 'Tile193', 'Tile194', 'Tile195', 'Tile196', 'Tile197', 'Tile198', 'Tile199', 'Tile200', 'Tile201', 'Tile202', 'Tile203', 'Tile204', 'Tile205', 'Tile206', 'Tile207', 'Tile208', 'Tile209', 'Tile210', 'Tile211', 'Tile212', 'Tile213', 'Tile214', 'Tile215', 'Tile216', 'Tile217', 'Tile218', 'Tile219', 'Tile220', 'Tile221', 'Tile222', 'Tile223', 'Tile224', 'Tile225', 'Tile226', 'Tile227', 'Tile228', 'Tile229', 'Tile230', 'Tile231', 'Tile232', 'Tile233', 'Tile234', 'Tile235', 'Tile236', 'Tile237', 'Tile238', 'Tile239', 'Tile240', 'Tile241', 'Tile242', 'Tile243', 'Tile244', 'Tile245', 'Tile246', 'Tile247', 'Tile248', 'Tile249', 'Tile250', 'Tile251', 'Tile252', 'Tile253', 'Tile254', 'Tile255', 'Tile256', 'Tile257', 'Tile258', 'Tile259', 'Tile260', 'Tile261', 'Tile262', 'Tile263', 'Tile264', 'Tile265', 'Tile266', 'Tile267', 'Tile268', 'Tile269', 'Tile270', 'Tile271', 'Tile272', 'Tile273', 'Tile274', 'Tile275', 'Tile276', 'Tile277', 'Tile278', 'Tile279', 'Tile280', 'Tile281', 'Tile282', 'Tile283', 'Tile284', 'Tile285', 'Tile286', 'Tile287', 'Tile288', 'Tile289', 'Tile290', 'Tile291', 'Tile292', 'Tile293', 'Tile294', 'Tile295', 'Tile296', 'Tile297', 'Tile298', 'Tile299', 'Tile300', 'Tile301', 'Tile302', 'Tile303', 'Tile304', 'Tile305', 'Tile306', 'Tile307', 'Tile308', 'Tile309', 'Tile310', 'Tile311', 'Tile312', 'Tile313', 'Tile314', 'Tile315', 'Tile316', 'Tile317', 'Tile318', 'Tile319', 'Tile320', 'Tile321', 'Tile322', 'Tile323', 'Tile324', 'Tile325', 'Tile326', 'Tile327', 'Tile328', 'Tile329', 'Tile330', 'Tile331', 'Tile332', 'Tile333', 'Tile334', 'Tile335', 'Tile336', 'Tile337', 'Tile338', 'Tile339', 'Tile340', 'Tile341']\n",
      "A batch of Tile0: tf.Tensor(\n",
      "[0.16925472 0.80603027 0.84506226 0.70453817 0.84117126 0.28987324\n",
      " 0.84901434 0.82943726 0.84898376 0.03209102 0.0714733  0.8333894\n",
      " 0.0403915  0.66693908 0.015625   0.04844868 0.07826233 0.03970462\n",
      " 0.82556152 0.67387724 0.75505066 0.015625   0.66693908 0.07826233\n",
      " 0.4154759  0.0714733  0.15380388 0.09456122 0.015625   0.17313039\n",
      " 0.8334046  0.03209102], shape=(32,), dtype=float64)\n",
      "A batch of targets: tf.Tensor(\n",
      "[0.65460526 0.53413743 0.67796053 0.60131579 0.83894371 0.63865132\n",
      " 0.61454678 0.74064327 0.74945175 0.65157164 0.66178728 0.74921418\n",
      " 0.62520102 0.5969481  0.78832237 0.22414108 0.73512427 0.63046418\n",
      " 0.74954313 0.60635965 0.7495614  0.71779971 0.26491228 0.72987939\n",
      " 0.65162646 0.64314693 0.66156798 0.43876096 0.69705775 0.19614401\n",
      " 0.27686404 0.64630848], shape=(32,), dtype=float64)\n"
     ]
    }
   ],
   "source": [
    "for feature_batch, label_batch in train_ds.take(1):\n",
    "  print('Every feature:', list(feature_batch.keys()))\n",
    "  print('A batch of Tile0:', feature_batch['Tile0'])\n",
    "  print('A batch of targets:', label_batch )"
   ]
  },
  {
   "cell_type": "code",
   "execution_count": 165,
   "metadata": {},
   "outputs": [],
   "source": [
    "example_batch = next(iter(train_ds))[0]\n",
    "\n",
    "\n",
    "def demo(feature_column):\n",
    "  feature_layer = layers.DenseFeatures(feature_column)\n",
    "  print(feature_layer(example_batch).numpy())"
   ]
  },
  {
   "cell_type": "code",
   "execution_count": 166,
   "metadata": {},
   "outputs": [],
   "source": [
    "feature_columns = []\n"
   ]
  },
  {
   "cell_type": "code",
   "execution_count": 167,
   "metadata": {},
   "outputs": [],
   "source": [
    "for i in range(0,342):\n",
    "       feature_columns.append(tf.feature_column.numeric_column(\"Tile\"+str(i),shape=(1,),default_value=None,dtype=tf.dtypes.float64,normalizer_fn=None));\n",
    "        \n",
    "my_feature_layer = tf.keras.layers.DenseFeatures(feature_columns);\n"
   ]
  },
  {
   "cell_type": "code",
   "execution_count": 168,
   "metadata": {},
   "outputs": [
    {
     "name": "stdout",
     "output_type": "stream",
     "text": [
      "WARNING:tensorflow:Layer dense_features_25 is casting an input tensor from dtype float64 to the layer's dtype of float32, which is new behavior in TensorFlow 2.  The layer has dtype float32 because it's dtype defaults to floatx.\n",
      "\n",
      "If you intended to run this layer in float32, you can safely ignore this warning. If in doubt, this warning is likely only an issue if you are porting a TensorFlow 1.X model to TensorFlow 2.\n",
      "\n",
      "To change all layers to have dtype float64 by default, call `tf.keras.backend.set_floatx('float64')`. To change just this layer, pass dtype='float64' to the layer constructor. If you are the author of this layer, you can disable autocasting by passing autocast=False to the base Layer constructor.\n",
      "\n",
      "[[0.41620868]\n",
      " [0.        ]\n",
      " [0.22803473]\n",
      " [0.        ]\n",
      " [0.        ]\n",
      " [0.49856204]\n",
      " [0.        ]\n",
      " [0.61209977]\n",
      " [0.11387891]\n",
      " [0.        ]\n",
      " [0.        ]\n",
      " [0.2664529 ]\n",
      " [0.12732714]\n",
      " [0.41236407]\n",
      " [0.        ]\n",
      " [0.34171402]\n",
      " [0.16626602]\n",
      " [0.        ]\n",
      " [0.2947629 ]\n",
      " [0.31044918]\n",
      " [0.        ]\n",
      " [0.5181355 ]\n",
      " [0.46726602]\n",
      " [0.31069523]\n",
      " [0.5845588 ]\n",
      " [0.44764256]\n",
      " [0.        ]\n",
      " [0.50645095]\n",
      " [0.3652745 ]\n",
      " [0.16626602]\n",
      " [0.31457102]\n",
      " [0.6549019 ]]\n"
     ]
    }
   ],
   "source": [
    "#print (feature_columns[0]);\n",
    "#rint(example_batch)\n",
    "demo(feature_columns[341])"
   ]
  },
  {
   "cell_type": "code",
   "execution_count": 170,
   "metadata": {},
   "outputs": [
    {
     "name": "stdout",
     "output_type": "stream",
     "text": [
      "NumericColumn(key='Tile341', shape=(1,), default_value=None, dtype=tf.float64, normalizer_fn=None)\n"
     ]
    }
   ],
   "source": [
    "print(feature_columns[341]);"
   ]
  },
  {
   "cell_type": "code",
   "execution_count": 147,
   "metadata": {},
   "outputs": [
    {
     "name": "stdout",
     "output_type": "stream",
     "text": [
      "Tile0      float64\n",
      "Tile1      float64\n",
      "Tile2      float64\n",
      "Tile3      float64\n",
      "Tile4      float64\n",
      "            ...   \n",
      "Tile338    float64\n",
      "Tile339    float64\n",
      "Tile340    float64\n",
      "Tile341    float64\n",
      "Center     float64\n",
      "Length: 343, dtype: object\n",
      "Tile0      float64\n",
      "Tile1      float64\n",
      "Tile2      float64\n",
      "Tile3      float64\n",
      "Tile4      float64\n",
      "            ...   \n",
      "Tile338    float64\n",
      "Tile339    float64\n",
      "Tile340    float64\n",
      "Tile341    float64\n",
      "Center     float64\n",
      "Length: 343, dtype: object\n"
     ]
    }
   ],
   "source": [
    "print (train_df.dtypes);\n",
    "print (test_df.dtypes);"
   ]
  },
  {
   "cell_type": "code",
   "execution_count": 171,
   "metadata": {},
   "outputs": [
    {
     "name": "stdout",
     "output_type": "stream",
     "text": [
      "342\n",
      "<tensorflow.python.feature_column.dense_features_v2.DenseFeatures object at 0x0000017A8A4C1708>\n"
     ]
    }
   ],
   "source": [
    "print (len(feature_columns))\n",
    "#my_feature_layer = tf.keras.layers.DenseFeatures(feature_columns)\n",
    "print(my_feature_layer);"
   ]
  },
  {
   "cell_type": "code",
   "execution_count": 149,
   "metadata": {},
   "outputs": [
    {
     "name": "stdout",
     "output_type": "stream",
     "text": [
      "Defined the plot_the_loss_curve function.\n"
     ]
    }
   ],
   "source": [
    "def plot_the_loss_curve(epochs, mse):\n",
    "  \"\"\"Plot a curve of loss vs. epoch.\"\"\"\n",
    "\n",
    "  plt.figure()\n",
    "  plt.xlabel(\"Epoch\")\n",
    "  plt.ylabel(\"Mean Squared Error\")\n",
    "\n",
    "  plt.plot(epochs, mse, label=\"Loss\")\n",
    "  plt.legend()\n",
    "  plt.ylim([mse.min()*0.95, mse.max() * 1.03])\n",
    "  plt.show()  \n",
    "\n",
    "print(\"Defined the plot_the_loss_curve function.\")"
   ]
  },
  {
   "cell_type": "code",
   "execution_count": 172,
   "metadata": {},
   "outputs": [],
   "source": [
    "def create_model(my_learning_rate, feature_layer):\n",
    "  \"\"\"Create and compile a simple linear regression model.\"\"\"\n",
    "  # Most simple tf.keras models are sequential.\n",
    "  model = tf.keras.models.Sequential();\n",
    "\n",
    "  # Add the layer containing the feature columns to the model.\n",
    "  model.add(feature_layer);\n",
    "\n",
    "  # Add one linear layer to the model to yield a simple linear regressor.\n",
    "  model.add(tf.keras.layers.Dense(units=1, input_shape=(1,)));\n",
    "\n",
    "  # Construct the layers into a model that TensorFlow can execute.\n",
    "  model.compile(optimizer=tf.keras.optimizers.RMSprop(lr=my_learning_rate),\n",
    "                loss=\"mean_squared_error\",\n",
    "                metrics=[tf.keras.metrics.MeanSquaredError()]);\n",
    "\n",
    "  return model           "
   ]
  },
  {
   "cell_type": "code",
   "execution_count": 173,
   "metadata": {},
   "outputs": [
    {
     "name": "stdout",
     "output_type": "stream",
     "text": [
      "Defined the create_model and train_model functions.\n"
     ]
    }
   ],
   "source": [
    "def train_model(model, dataset, epochs, batch_size, label_name):\n",
    "  \"\"\"Feed a dataset into the model in order to train it.\"\"\"\n",
    "\n",
    "  # Split the dataset into features and label.  \n",
    "  features = {name:np.array(value) for name, value in dataset.items()}\n",
    "  label = np.array(features.pop(label_name))  \n",
    "  history = model.fit(x=features, y=label, batch_size=batch_size, epochs=epochs, shuffle=True)\n",
    "  #history = model.fit(dataset, epochs=15)\n",
    "\n",
    "  # Get details that will be useful for plotting the loss curve.\n",
    "  epochs = history.epoch\n",
    "  hist = pd.DataFrame(history.history)\n",
    "  rmse = hist[\"mean_squared_error\"]\n",
    "\n",
    "  return epochs, rmse   \n",
    "\n",
    "print(\"Defined the create_model and train_model functions.\")"
   ]
  },
  {
   "cell_type": "code",
   "execution_count": 174,
   "metadata": {},
   "outputs": [],
   "source": [
    "learning_rate = 0.01\n",
    "epochs = 15\n",
    "batch_size = 100\n",
    "label_name = \"Center\"\n",
    "\n",
    "# Establish the model's topography.\n",
    "my_model = create_model(learning_rate, my_feature_layer)\n",
    "\n"
   ]
  },
  {
   "cell_type": "code",
   "execution_count": 175,
   "metadata": {},
   "outputs": [
    {
     "name": "stdout",
     "output_type": "stream",
     "text": [
      "Train on 933 samples\n",
      "Epoch 1/15\n",
      "933/933 [==============================] - 3s 3ms/sample - loss: 0.9107 - mean_squared_error: 0.9107\n",
      "Epoch 2/15\n",
      "933/933 [==============================] - 0s 103us/sample - loss: 0.4286 - mean_squared_error: 0.4286\n",
      "Epoch 3/15\n",
      "933/933 [==============================] - 0s 73us/sample - loss: 0.1449 - mean_squared_error: 0.1449\n",
      "Epoch 4/15\n",
      "933/933 [==============================] - 0s 78us/sample - loss: 0.4879 - mean_squared_error: 0.4879\n",
      "Epoch 5/15\n",
      "933/933 [==============================] - 0s 76us/sample - loss: 0.3877 - mean_squared_error: 0.3877\n",
      "Epoch 6/15\n",
      "933/933 [==============================] - 0s 82us/sample - loss: 0.2661 - mean_squared_error: 0.2661\n",
      "Epoch 7/15\n",
      "933/933 [==============================] - 0s 83us/sample - loss: 0.3988 - mean_squared_error: 0.3988\n",
      "Epoch 8/15\n",
      "933/933 [==============================] - 0s 81us/sample - loss: 0.3631 - mean_squared_error: 0.3631\n",
      "Epoch 9/15\n",
      "933/933 [==============================] - 0s 77us/sample - loss: 0.2947 - mean_squared_error: 0.2947\n",
      "Epoch 10/15\n",
      "933/933 [==============================] - 0s 95us/sample - loss: 0.3740 - mean_squared_error: 0.3740\n",
      "Epoch 11/15\n",
      "933/933 [==============================] - 0s 82us/sample - loss: 0.2113 - mean_squared_error: 0.2113\n",
      "Epoch 12/15\n",
      "933/933 [==============================] - 0s 81us/sample - loss: 0.3771 - mean_squared_error: 0.3771\n",
      "Epoch 13/15\n",
      "933/933 [==============================] - 0s 91us/sample - loss: 0.4811 - mean_squared_error: 0.4811\n",
      "Epoch 14/15\n",
      "933/933 [==============================] - 0s 87us/sample - loss: 0.2124 - mean_squared_error: 0.2124\n",
      "Epoch 15/15\n",
      "933/933 [==============================] - 0s 83us/sample - loss: 0.3087 - mean_squared_error: 0.3087\n"
     ]
    },
    {
     "data": {
      "image/png": "[encoded data removed]",
      "text/plain": [
       "<Figure size 432x288 with 1 Axes>"
      ]
     },
     "metadata": {
      "needs_background": "light"
     },
     "output_type": "display_data"
    },
    {
     "name": "stdout",
     "output_type": "stream",
     "text": [
      "\n",
      " Evaluate the linear regression model against the test set:\n",
      "200/200 [==============================] - 1s 7ms/sample - loss: 0.2367 - mean_squared_error: 0.2367\n"
     ]
    },
    {
     "data": {
      "text/plain": [
       "[0.23669921606779099, 0.23669922]"
      ]
     },
     "execution_count": 175,
     "metadata": {},
     "output_type": "execute_result"
    }
   ],
   "source": [
    "# Train the model on the normalized training set.\n",
    "epochs, mse = train_model(my_model, train_df, epochs, batch_size, label_name);\n",
    "plot_the_loss_curve(epochs, mse);\n",
    "\n",
    "test_features = {name:np.array(value) for name, value in test_df.items()}\n",
    "test_label = np.array(test_features.pop(label_name)) # isolate the label\n",
    "print(\"\\n Evaluate the linear regression model against the test set:\")\n",
    "my_model.evaluate(x = test_features, y = test_label, batch_size=batch_size)\n",
    "\n",
    "#loss, accuracy = model.evaluate(test_ds)\n",
    "#print(\"Accuracy\", accuracy)\n"
   ]
  },
  {
   "cell_type": "code",
   "execution_count": 469,
   "metadata": {},
   "outputs": [],
   "source": [
    "def create_model2(my_learning_rate, my_feature_layer):\n",
    "  \"\"\"Create and compile a simple linear regression model.\"\"\"\n",
    "  # Most simple tf.keras models are sequential.\n",
    "  model = tf.keras.models.Sequential()\n",
    "\n",
    "  # Add the layer containing the feature columns to the model.\n",
    "  model.add(my_feature_layer)\n",
    "\n",
    "  # Describe the topography of the model by calling the tf.keras.layers.Dense\n",
    "  # method once for each layer. We've specified the following arguments:\n",
    "  #   * units specifies the number of nodes in this layer.\n",
    "  #   * activation specifies the activation function (Rectified Linear Unit).\n",
    "  #   * name is just a string that can be useful when debugging.\n",
    "\n",
    "  # Define the first hidden layer with 20 nodes.   \n",
    "  model.add(tf.keras.layers.Dense(units=24, \n",
    "                                  activation='relu',                                   \n",
    "                                  name='Hidden1'))\n",
    "  \n",
    "  # Define the second hidden layer with 12 nodes. \n",
    "  model.add(tf.keras.layers.Dense(units=12, \n",
    "                                  activation='relu',                                   \n",
    "                                  name='Hidden2'))\n",
    "\n",
    "  \n",
    "  # Define the output layer.\n",
    "  model.add(tf.keras.layers.Dense(units=1,  \n",
    "                                  name='Output'))                              \n",
    "  \n",
    "  model.compile(optimizer=tf.keras.optimizers.Adam(lr=my_learning_rate),\n",
    "                loss=\"mean_squared_error\",\n",
    "                metrics=[tf.keras.metrics.MeanSquaredError()])\n",
    "\n",
    "  return model"
   ]
  },
  {
   "cell_type": "code",
   "execution_count": 470,
   "metadata": {},
   "outputs": [
    {
     "name": "stdout",
     "output_type": "stream",
     "text": [
      "Train on 933 samples\n",
      "Epoch 1/60\n",
      "933/933 [==============================] - 3s 4ms/sample - loss: 0.0983 - mean_squared_error: 0.0983\n",
      "Epoch 2/60\n",
      "933/933 [==============================] - 0s 132us/sample - loss: 0.0352 - mean_squared_error: 0.0352\n",
      "Epoch 3/60\n",
      "933/933 [==============================] - 0s 185us/sample - loss: 0.0274 - mean_squared_error: 0.0274\n",
      "Epoch 4/60\n",
      "933/933 [==============================] - 0s 174us/sample - loss: 0.0239 - mean_squared_error: 0.0239\n",
      "Epoch 5/60\n",
      "933/933 [==============================] - 0s 110us/sample - loss: 0.0220 - mean_squared_error: 0.0220\n",
      "Epoch 6/60\n",
      "933/933 [==============================] - 0s 115us/sample - loss: 0.0200 - mean_squared_error: 0.0200\n",
      "Epoch 7/60\n",
      "933/933 [==============================] - 0s 112us/sample - loss: 0.0198 - mean_squared_error: 0.0198\n",
      "Epoch 8/60\n",
      "933/933 [==============================] - 0s 119us/sample - loss: 0.0175 - mean_squared_error: 0.0175\n",
      "Epoch 9/60\n",
      "933/933 [==============================] - 0s 119us/sample - loss: 0.0161 - mean_squared_error: 0.0161\n",
      "Epoch 10/60\n",
      "933/933 [==============================] - 0s 165us/sample - loss: 0.0152 - mean_squared_error: 0.0152\n",
      "Epoch 11/60\n",
      "933/933 [==============================] - 0s 161us/sample - loss: 0.0141 - mean_squared_error: 0.0141\n",
      "Epoch 12/60\n",
      "933/933 [==============================] - 0s 109us/sample - loss: 0.0130 - mean_squared_error: 0.0130\n",
      "Epoch 13/60\n",
      "933/933 [==============================] - 0s 116us/sample - loss: 0.0118 - mean_squared_error: 0.0118\n",
      "Epoch 14/60\n",
      "933/933 [==============================] - 0s 115us/sample - loss: 0.0112 - mean_squared_error: 0.0112\n",
      "Epoch 15/60\n",
      "933/933 [==============================] - 0s 121us/sample - loss: 0.0105 - mean_squared_error: 0.0105\n",
      "Epoch 16/60\n",
      "933/933 [==============================] - 0s 125us/sample - loss: 0.0101 - mean_squared_error: 0.0101\n",
      "Epoch 17/60\n",
      "933/933 [==============================] - 0s 135us/sample - loss: 0.0091 - mean_squared_error: 0.0091\n",
      "Epoch 18/60\n",
      "933/933 [==============================] - 0s 104us/sample - loss: 0.0090 - mean_squared_error: 0.0090\n",
      "Epoch 19/60\n",
      "933/933 [==============================] - 0s 118us/sample - loss: 0.0085 - mean_squared_error: 0.0085\n",
      "Epoch 20/60\n",
      "933/933 [==============================] - 0s 129us/sample - loss: 0.0079 - mean_squared_error: 0.0079\n",
      "Epoch 21/60\n",
      "933/933 [==============================] - 0s 171us/sample - loss: 0.0082 - mean_squared_error: 0.0082\n",
      "Epoch 22/60\n",
      "933/933 [==============================] - 0s 128us/sample - loss: 0.0099 - mean_squared_error: 0.0099\n",
      "Epoch 23/60\n",
      "933/933 [==============================] - 0s 114us/sample - loss: 0.0083 - mean_squared_error: 0.0083\n",
      "Epoch 24/60\n",
      "933/933 [==============================] - 0s 128us/sample - loss: 0.0079 - mean_squared_error: 0.0079\n",
      "Epoch 25/60\n",
      "933/933 [==============================] - 0s 126us/sample - loss: 0.0074 - mean_squared_error: 0.0074\n",
      "Epoch 26/60\n",
      "933/933 [==============================] - 0s 99us/sample - loss: 0.0069 - mean_squared_error: 0.0069\n",
      "Epoch 27/60\n",
      "933/933 [==============================] - 0s 119us/sample - loss: 0.0068 - mean_squared_error: 0.0068\n",
      "Epoch 28/60\n",
      "933/933 [==============================] - 0s 120us/sample - loss: 0.0060 - mean_squared_error: 0.0060\n",
      "Epoch 29/60\n",
      "933/933 [==============================] - 0s 139us/sample - loss: 0.0058 - mean_squared_error: 0.0058\n",
      "Epoch 30/60\n",
      "933/933 [==============================] - 0s 110us/sample - loss: 0.0060 - mean_squared_error: 0.0060\n",
      "Epoch 31/60\n",
      "933/933 [==============================] - 0s 111us/sample - loss: 0.0060 - mean_squared_error: 0.0060\n",
      "Epoch 32/60\n",
      "933/933 [==============================] - 0s 121us/sample - loss: 0.0054 - mean_squared_error: 0.0054\n",
      "Epoch 33/60\n",
      "933/933 [==============================] - 0s 148us/sample - loss: 0.0051 - mean_squared_error: 0.0051\n",
      "Epoch 34/60\n",
      "933/933 [==============================] - 0s 135us/sample - loss: 0.0050 - mean_squared_error: 0.0050\n",
      "Epoch 35/60\n",
      "933/933 [==============================] - 0s 106us/sample - loss: 0.0052 - mean_squared_error: 0.0052\n",
      "Epoch 36/60\n",
      "933/933 [==============================] - 0s 106us/sample - loss: 0.0049 - mean_squared_error: 0.0049\n",
      "Epoch 37/60\n",
      "933/933 [==============================] - 0s 112us/sample - loss: 0.0052 - mean_squared_error: 0.0052\n",
      "Epoch 38/60\n",
      "933/933 [==============================] - 0s 161us/sample - loss: 0.0054 - mean_squared_error: 0.0054\n",
      "Epoch 39/60\n",
      "933/933 [==============================] - 0s 132us/sample - loss: 0.0052 - mean_squared_error: 0.0052\n",
      "Epoch 40/60\n",
      "933/933 [==============================] - 0s 118us/sample - loss: 0.0052 - mean_squared_error: 0.0052\n",
      "Epoch 41/60\n",
      "933/933 [==============================] - 0s 112us/sample - loss: 0.0054 - mean_squared_error: 0.0054\n",
      "Epoch 42/60\n",
      "933/933 [==============================] - 0s 109us/sample - loss: 0.0068 - mean_squared_error: 0.0068\n",
      "Epoch 43/60\n",
      "933/933 [==============================] - 0s 121us/sample - loss: 0.0051 - mean_squared_error: 0.0051\n",
      "Epoch 44/60\n",
      "933/933 [==============================] - 0s 116us/sample - loss: 0.0044 - mean_squared_error: 0.0044\n",
      "Epoch 45/60\n",
      "933/933 [==============================] - 0s 130us/sample - loss: 0.0045 - mean_squared_error: 0.0045\n",
      "Epoch 46/60\n",
      "933/933 [==============================] - 0s 140us/sample - loss: 0.0038 - mean_squared_error: 0.0038\n",
      "Epoch 47/60\n",
      "933/933 [==============================] - 0s 182us/sample - loss: 0.0041 - mean_squared_error: 0.0041\n",
      "Epoch 48/60\n",
      "933/933 [==============================] - 0s 153us/sample - loss: 0.0039 - mean_squared_error: 0.0039\n",
      "Epoch 49/60\n",
      "933/933 [==============================] - 0s 137us/sample - loss: 0.0038 - mean_squared_error: 0.0038\n",
      "Epoch 50/60\n",
      "933/933 [==============================] - 0s 122us/sample - loss: 0.0041 - mean_squared_error: 0.0041\n",
      "Epoch 51/60\n",
      "933/933 [==============================] - 0s 109us/sample - loss: 0.0037 - mean_squared_error: 0.0037\n",
      "Epoch 52/60\n",
      "933/933 [==============================] - 0s 121us/sample - loss: 0.0036 - mean_squared_error: 0.0036\n",
      "Epoch 53/60\n",
      "933/933 [==============================] - 0s 147us/sample - loss: 0.0036 - mean_squared_error: 0.0036\n",
      "Epoch 54/60\n",
      "933/933 [==============================] - 0s 125us/sample - loss: 0.0032 - mean_squared_error: 0.0032\n",
      "Epoch 55/60\n",
      "933/933 [==============================] - 0s 111us/sample - loss: 0.0033 - mean_squared_error: 0.0033\n",
      "Epoch 56/60\n",
      "933/933 [==============================] - 0s 125us/sample - loss: 0.0031 - mean_squared_error: 0.0031\n",
      "Epoch 57/60\n",
      "933/933 [==============================] - 0s 103us/sample - loss: 0.0030 - mean_squared_error: 0.0030\n",
      "Epoch 58/60\n",
      "933/933 [==============================] - 0s 138us/sample - loss: 0.0030 - mean_squared_error: 0.0030\n",
      "Epoch 59/60\n",
      "933/933 [==============================] - 0s 130us/sample - loss: 0.0028 - mean_squared_error: 0.0028\n",
      "Epoch 60/60\n",
      "933/933 [==============================] - 0s 127us/sample - loss: 0.0032 - mean_squared_error: 0.0032\n"
     ]
    },
    {
     "data": {
      "image/png": "[encoded data removed]",
      "text/plain": [
       "<Figure size 432x288 with 1 Axes>"
      ]
     },
     "metadata": {
      "needs_background": "light"
     },
     "output_type": "display_data"
    },
    {
     "name": "stdout",
     "output_type": "stream",
     "text": [
      "\n",
      " Evaluate the linear regression model against the test set:\n",
      "200/200 [==============================] - 2s 8ms/sample - loss: 0.0081 - mean_squared_error: 0.0081\n"
     ]
    },
    {
     "data": {
      "text/plain": [
       "[0.008146455278620124, 0.0081464555]"
      ]
     },
     "execution_count": 470,
     "metadata": {},
     "output_type": "execute_result"
    }
   ],
   "source": [
    "learning_rate = 0.005\n",
    "epochs = 60\n",
    "batch_size = 100\n",
    "label_name = \"Center\"\n",
    "\n",
    "# Establish the model's topography.\n",
    "my_model = create_model2(learning_rate, my_feature_layer)\n",
    "\n",
    "# Train the model on the normalized training set.\n",
    "epochs, mse = train_model(my_model, train_df, epochs, batch_size, label_name);\n",
    "plot_the_loss_curve(epochs, mse);\n",
    "\n",
    "test_features = {name:np.array(value) for name, value in test_df.items()}\n",
    "test_label = np.array(test_features.pop(label_name)) # isolate the label\n",
    "print(\"\\n Evaluate the linear regression model against the test set:\")\n",
    "my_model.evaluate(x = test_features, y = test_label, batch_size=batch_size)\n",
    "\n",
    "\n"
   ]
  },
  {
   "cell_type": "code",
   "execution_count": 471,
   "metadata": {},
   "outputs": [
    {
     "name": "stdout",
     "output_type": "stream",
     "text": [
      "Model: \"sequential_48\"\n",
      "_________________________________________________________________\n",
      "Layer (type)                 Output Shape              Param #   \n",
      "=================================================================\n",
      "dense_features_24 (DenseFeat multiple                  0         \n",
      "_________________________________________________________________\n",
      "Hidden1 (Dense)              multiple                  8232      \n",
      "_________________________________________________________________\n",
      "Hidden2 (Dense)              multiple                  300       \n",
      "_________________________________________________________________\n",
      "Output (Dense)               multiple                  13        \n",
      "=================================================================\n",
      "Total params: 8,545\n",
      "Trainable params: 8,545\n",
      "Non-trainable params: 0\n",
      "_________________________________________________________________\n"
     ]
    }
   ],
   "source": [
    "my_model.summary();"
   ]
  },
  {
   "cell_type": "code",
   "execution_count": 526,
   "metadata": {},
   "outputs": [
    {
     "name": "stdout",
     "output_type": "stream",
     "text": [
      "INFO:tensorflow:Assets written to: savedModel\\assets\n",
      "INFO:tensorflow:Assets written to: my_model.tf\\assets\n"
     ]
    }
   ],
   "source": [
    "save_model(my_model,'savedModel');\n",
    "my_model.save('my_model.tf');"
   ]
  },
  {
   "cell_type": "code",
   "execution_count": 519,
   "metadata": {},
   "outputs": [],
   "source": [
    "my_model.save_weights('ws.h5')\n",
    "\n",
    "my_model.save('model.h5')\n",
    "model_json = my_model.to_json()\n",
    "with open(\"model.json\", \"w\") as json_file:\n",
    "     json_file.write(model_json)\n"
   ]
  },
  {
   "cell_type": "code",
   "execution_count": 185,
   "metadata": {},
   "outputs": [
    {
     "name": "stdout",
     "output_type": "stream",
     "text": [
      "343\n"
     ]
    }
   ],
   "source": [
    "ft = {name:np.array(value) for name, value in train_df.items()}\n",
    "print(str(len(ft)));"
   ]
  },
  {
   "cell_type": "code",
   "execution_count": 186,
   "metadata": {},
   "outputs": [
    {
     "name": "stdout",
     "output_type": "stream",
     "text": [
      "933\n"
     ]
    }
   ],
   "source": [
    "print(str(len(train_df)));"
   ]
  },
  {
   "cell_type": "code",
   "execution_count": 190,
   "metadata": {},
   "outputs": [
    {
     "name": "stdout",
     "output_type": "stream",
     "text": [
      "0.0390777587890625\n"
     ]
    }
   ],
   "source": [
    "print ((train_df['Tile0'])[0]);"
   ]
  },
  {
   "cell_type": "code",
   "execution_count": 206,
   "metadata": {},
   "outputs": [
    {
     "name": "stdout",
     "output_type": "stream",
     "text": [
      "<tensorflow.python.keras.layers.core.Dense object at 0x0000017A988CBE48>\n",
      "[[-0.01936654 -0.10529993 -0.10228878 ... -0.06938797  0.00058541\n",
      "  -0.03037427]\n",
      " [-0.15197083  0.00077295 -0.17129004 ... -0.15291092 -0.1251194\n",
      "  -0.00995205]\n",
      " [-0.14958458 -0.04119785 -0.0926425  ... -0.01659535 -0.00617061\n",
      "  -0.01980436]\n",
      " ...\n",
      " [-0.01948463 -0.10693412 -0.18484314 ... -0.16066006 -0.02883429\n",
      "  -0.17489201]\n",
      " [-0.16721378 -0.14510466  0.05530919 ... -0.05403673 -0.14970125\n",
      "  -0.12773354]\n",
      " [ 0.00364786 -0.09297556 -0.16730575 ... -0.09054723  0.04327306\n",
      "  -0.07479025]]\n"
     ]
    }
   ],
   "source": [
    "print(my_model.layers[1])\n",
    "print(my_model.layers[1].get_weights()[0])\n",
    "#print(my_model.layers[1].get_weights()[1])\n",
    "#print(my_model.layers[2].get_weights()[0])\n"
   ]
  },
  {
   "cell_type": "code",
   "execution_count": 202,
   "metadata": {},
   "outputs": [
    {
     "name": "stdout",
     "output_type": "stream",
     "text": [
      "20\n"
     ]
    }
   ],
   "source": [
    "print(len(my_model.layers[1].get_weights()[1]));"
   ]
  },
  {
   "cell_type": "code",
   "execution_count": 227,
   "metadata": {},
   "outputs": [],
   "source": [
    "def getInputs():\n",
    "    total=0;\n",
    "    inputs = [];\n",
    "    with open('validation.csv', 'rU') as csvfile:\n",
    "                csvline = csv.reader(csvfile);\n",
    "                for row in csvline:\n",
    "                    if (total<1):                             \n",
    "                             inputs = row;                             \n",
    "                    total=total+1;\n",
    "    return inputs;\n"
   ]
  },
  {
   "cell_type": "code",
   "execution_count": 251,
   "metadata": {},
   "outputs": [
    {
     "name": "stderr",
     "output_type": "stream",
     "text": [
      "C:\\anaconda\\lib\\site-packages\\ipykernel_launcher.py:4: DeprecationWarning: 'U' mode is deprecated\n",
      "  after removing the cwd from sys.path.\n"
     ]
    }
   ],
   "source": [
    "inputs = getInputs();\n"
   ]
  },
  {
   "cell_type": "code",
   "execution_count": 252,
   "metadata": {},
   "outputs": [
    {
     "name": "stdout",
     "output_type": "stream",
     "text": [
      "342\n"
     ]
    }
   ],
   "source": [
    "print(len(inputs))"
   ]
  },
  {
   "cell_type": "code",
   "execution_count": 253,
   "metadata": {},
   "outputs": [
    {
     "name": "stdout",
     "output_type": "stream",
     "text": [
      "9801075\n"
     ]
    }
   ],
   "source": [
    "print(inputs[40]);"
   ]
  },
  {
   "cell_type": "code",
   "execution_count": 254,
   "metadata": {},
   "outputs": [],
   "source": [
    "for i in range(0,342):\n",
    "        inputs[i] = float(float(inputs[i]) / float(TOTAL_COLORS));"
   ]
  },
  {
   "cell_type": "code",
   "execution_count": 259,
   "metadata": {},
   "outputs": [
    {
     "name": "stdout",
     "output_type": "stream",
     "text": [
      "0.5841895937919617\n"
     ]
    }
   ],
   "source": [
    "print(inputs[40]);"
   ]
  },
  {
   "cell_type": "code",
   "execution_count": 309,
   "metadata": {},
   "outputs": [],
   "source": [
    "inputsV = [np.array(0) for i in range(0,342)]\n",
    "\n",
    "n = 342\n",
    "m = 1\n",
    "a = [[0] * m for i in range(n)]\n",
    "\n"
   ]
  },
  {
   "cell_type": "code",
   "execution_count": 310,
   "metadata": {},
   "outputs": [
    {
     "name": "stdout",
     "output_type": "stream",
     "text": [
      "342\n",
      "0\n"
     ]
    }
   ],
   "source": [
    "print(len(inputsV));\n",
    "print(inputsV[0])\n",
    "for i in range(342):\n",
    "    inputsV[i] = inputs[i];\n",
    "    \n",
    "    "
   ]
  },
  {
   "cell_type": "code",
   "execution_count": 317,
   "metadata": {},
   "outputs": [
    {
     "name": "stdout",
     "output_type": "stream",
     "text": [
      "0.5841895937919617\n"
     ]
    }
   ],
   "source": [
    "print(inputsV[40])\n"
   ]
  },
  {
   "cell_type": "code",
   "execution_count": 316,
   "metadata": {},
   "outputs": [],
   "source": [
    "for i in range(342):\n",
    "    a[i][0] = inputs[i];\n",
    "\n",
    "\n",
    "#print(a);\n",
    "\n",
    "#inputV2 = np.zeros([1,342]);\n"
   ]
  },
  {
   "cell_type": "code",
   "execution_count": 319,
   "metadata": {},
   "outputs": [],
   "source": [
    "#pred_y = my_model.predict(inputsV,batch_size=1,verbose=1);"
   ]
  },
  {
   "cell_type": "code",
   "execution_count": 320,
   "metadata": {},
   "outputs": [],
   "source": [
    "val_df = pd.read_csv('validation.csv');"
   ]
  },
  {
   "cell_type": "code",
   "execution_count": 321,
   "metadata": {},
   "outputs": [
    {
     "data": {
      "text/html": [
       "<div>\n",
       "<style scoped>\n",
       "    .dataframe tbody tr th:only-of-type {\n",
       "        vertical-align: middle;\n",
       "    }\n",
       "\n",
       "    .dataframe tbody tr th {\n",
       "        vertical-align: top;\n",
       "    }\n",
       "\n",
       "    .dataframe thead th {\n",
       "        text-align: right;\n",
       "    }\n",
       "</style>\n",
       "<table border=\"1\" class=\"dataframe\">\n",
       "  <thead>\n",
       "    <tr style=\"text-align: right;\">\n",
       "      <th></th>\n",
       "      <th>Tile0</th>\n",
       "      <th>Tile1</th>\n",
       "      <th>Tile2</th>\n",
       "      <th>Tile3</th>\n",
       "      <th>Tile4</th>\n",
       "      <th>Tile5</th>\n",
       "      <th>Tile6</th>\n",
       "      <th>Tile7</th>\n",
       "      <th>Tile8</th>\n",
       "      <th>Tile9</th>\n",
       "      <th>...</th>\n",
       "      <th>Tile332</th>\n",
       "      <th>Tile333</th>\n",
       "      <th>Tile334</th>\n",
       "      <th>Tile335</th>\n",
       "      <th>Tile336</th>\n",
       "      <th>Tile337</th>\n",
       "      <th>Tile338</th>\n",
       "      <th>Tile339</th>\n",
       "      <th>Tile340</th>\n",
       "      <th>Tile341</th>\n",
       "    </tr>\n",
       "  </thead>\n",
       "  <tbody>\n",
       "    <tr>\n",
       "      <th>0</th>\n",
       "      <td>0</td>\n",
       "      <td>0</td>\n",
       "      <td>0</td>\n",
       "      <td>0</td>\n",
       "      <td>0</td>\n",
       "      <td>0</td>\n",
       "      <td>0</td>\n",
       "      <td>0</td>\n",
       "      <td>0</td>\n",
       "      <td>0</td>\n",
       "      <td>...</td>\n",
       "      <td>0</td>\n",
       "      <td>0</td>\n",
       "      <td>0</td>\n",
       "      <td>0</td>\n",
       "      <td>0</td>\n",
       "      <td>0</td>\n",
       "      <td>0</td>\n",
       "      <td>0</td>\n",
       "      <td>0</td>\n",
       "      <td>0</td>\n",
       "    </tr>\n",
       "  </tbody>\n",
       "</table>\n",
       "<p>1 rows × 342 columns</p>\n",
       "</div>"
      ],
      "text/plain": [
       "   Tile0  Tile1  Tile2  Tile3  Tile4  Tile5  Tile6  Tile7  Tile8  Tile9  ...  \\\n",
       "0      0      0      0      0      0      0      0      0      0      0  ...   \n",
       "\n",
       "   Tile332  Tile333  Tile334  Tile335  Tile336  Tile337  Tile338  Tile339  \\\n",
       "0        0        0        0        0        0        0        0        0   \n",
       "\n",
       "   Tile340  Tile341  \n",
       "0        0        0  \n",
       "\n",
       "[1 rows x 342 columns]"
      ]
     },
     "execution_count": 321,
     "metadata": {},
     "output_type": "execute_result"
    }
   ],
   "source": [
    "val_df.head()"
   ]
  },
  {
   "cell_type": "code",
   "execution_count": 323,
   "metadata": {},
   "outputs": [
    {
     "name": "stdout",
     "output_type": "stream",
     "text": [
      "9801075\n"
     ]
    }
   ],
   "source": [
    "print(val_df['Tile40'][0]);"
   ]
  },
  {
   "cell_type": "code",
   "execution_count": 324,
   "metadata": {},
   "outputs": [],
   "source": [
    "val_df = val_df / TOTAL_COLORS;"
   ]
  },
  {
   "cell_type": "code",
   "execution_count": 325,
   "metadata": {},
   "outputs": [
    {
     "name": "stdout",
     "output_type": "stream",
     "text": [
      "0.5841895937919617\n"
     ]
    }
   ],
   "source": [
    "print(val_df['Tile40'][0]);"
   ]
  },
  {
   "cell_type": "code",
   "execution_count": 326,
   "metadata": {},
   "outputs": [],
   "source": [
    "def predict(model, dataset, batch_size):  \n",
    "\n",
    "  # Split the dataset into features and label.  \n",
    "  features = {name:np.array(value) for name, value in dataset.items()}  \n",
    "  pred_y = model.predict(x=features, batch_size=batch_size, verbose=1)  \n",
    "\n",
    "  return pred_y\n"
   ]
  },
  {
   "cell_type": "code",
   "execution_count": 472,
   "metadata": {},
   "outputs": [
    {
     "name": "stdout",
     "output_type": "stream",
     "text": [
      "\r",
      "1/1 [==============================] - 2s 2s/sample\n"
     ]
    }
   ],
   "source": [
    "y_val = predict(my_model,val_df,1)\n",
    "\n",
    "#print('Yval:' + y_val);"
   ]
  },
  {
   "cell_type": "code",
   "execution_count": 473,
   "metadata": {},
   "outputs": [
    {
     "name": "stdout",
     "output_type": "stream",
     "text": [
      "[0.76380503]\n"
     ]
    }
   ],
   "source": [
    "print(y_val[0])"
   ]
  },
  {
   "cell_type": "code",
   "execution_count": 505,
   "metadata": {},
   "outputs": [
    {
     "name": "stdout",
     "output_type": "stream",
     "text": [
      "[41795.41]\n",
      "[340.48444]\n",
      "[42135.895]\n"
     ]
    }
   ],
   "source": [
    "point = y_val[0] * TOTAL_PIXELS;\n",
    "\n",
    "pointE1 = point * 0.008146455278620124;\n",
    "\n",
    "print(point);\n",
    "print(pointE1);\n",
    "point = point + pointE1;\n",
    "print(point);"
   ]
  },
  {
   "cell_type": "code",
   "execution_count": 506,
   "metadata": {},
   "outputs": [
    {
     "name": "stdout",
     "output_type": "stream",
     "text": [
      "[87.89453],[146.30519]\n"
     ]
    }
   ],
   "source": [
    "py = point / TOTAL_WIDTH;\n",
    "px = point % TOTAL_WIDTH;\n",
    "\n",
    "print(str(px)+\",\"+str(py));"
   ]
  },
  {
   "cell_type": "code",
   "execution_count": 507,
   "metadata": {},
   "outputs": [
    {
     "name": "stdout",
     "output_type": "stream",
     "text": [
      "[14.630519],[5.493408]\n"
     ]
    }
   ],
   "source": [
    "trow = py / 10;\n",
    "tcol = px / 16;\n",
    "print(str(trow)+\",\"+str(tcol))"
   ]
  },
  {
   "cell_type": "code",
   "execution_count": 508,
   "metadata": {},
   "outputs": [
    {
     "name": "stdout",
     "output_type": "stream",
     "text": [
      "[268.84274]\n"
     ]
    }
   ],
   "source": [
    "tileP = trow*18 + (tcol);\n",
    "print(str(tileP))"
   ]
  },
  {
   "cell_type": "code",
   "execution_count": 509,
   "metadata": {},
   "outputs": [
    {
     "name": "stdout",
     "output_type": "stream",
     "text": [
      "0.12924230098724365\n"
     ]
    }
   ],
   "source": [
    "print(val_df['Tile254'][0]);"
   ]
  },
  {
   "cell_type": "code",
   "execution_count": 510,
   "metadata": {},
   "outputs": [
    {
     "name": "stdout",
     "output_type": "stream",
     "text": [
      "3691141.0\n"
     ]
    }
   ],
   "source": [
    "print(val_df['Tile272'][0]*TOTAL_COLORS);"
   ]
  },
  {
   "cell_type": "code",
   "execution_count": 511,
   "metadata": {},
   "outputs": [],
   "source": [
    "SET_PATH = 'C:/models/ryuboxes/validation/set01';\n",
    "\n",
    "def genImgCsv(center,file):    \n",
    "    img = cv2.imread(SET_PATH+'/'+file);\n",
    "    print('Generating point for' + SET_PATH+'/'+file);\n",
    "    row=0;\n",
    "    col=0;\n",
    "    tileCols = 16;\n",
    "    tileRows = 10;\n",
    "    index=0;\n",
    "    centerX = int(center) % 288;\n",
    "    centerY = int(center) // 288;\n",
    "    print(str(centerX)+','+str(centerY));\n",
    "    \n",
    "    img.itemset((centerY,centerX,2),255);\n",
    "    img.itemset((centerY,centerX,1),0);\n",
    "    img.itemset((centerY,centerX,0),0);\n",
    "    \n",
    "    cv2.imwrite('point.png',img)\n",
    "            \n",
    "    #print('img: '+file+ ', center: '+ center + 'centerX:' + str(centerX) + ', centerY' + str(centerY));\n",
    "    \n",
    "\n",
    "    \n"
   ]
  },
  {
   "cell_type": "code",
   "execution_count": 512,
   "metadata": {},
   "outputs": [
    {
     "name": "stdout",
     "output_type": "stream",
     "text": [
      "Generating point forC:/models/ryuboxes/validation/set01/ryu-val1-01.png\n",
      "87,146\n"
     ]
    }
   ],
   "source": [
    "genImgCsv(point,'ryu-val1-01.png');"
   ]
  },
  {
   "cell_type": "code",
   "execution_count": 528,
   "metadata": {},
   "outputs": [
    {
     "name": "stdout",
     "output_type": "stream",
     "text": [
      "{'name': 'sequential_48', 'layers': [{'class_name': 'DenseFeatures', 'config': {'name': 'dense_features_24', 'trainable': True, 'dtype': 'float32', 'feature_columns': [{'class_name': 'NumericColumn', 'config': {'key': 'Tile0', 'shape': (1,), 'default_value': None, 'dtype': 'float64', 'normalizer_fn': None}}, {'class_name': 'NumericColumn', 'config': {'key': 'Tile1', 'shape': (1,), 'default_value': None, 'dtype': 'float64', 'normalizer_fn': None}}, {'class_name': 'NumericColumn', 'config': {'key': 'Tile10', 'shape': (1,), 'default_value': None, 'dtype': 'float64', 'normalizer_fn': None}}, {'class_name': 'NumericColumn', 'config': {'key': 'Tile100', 'shape': (1,), 'default_value': None, 'dtype': 'float64', 'normalizer_fn': None}}, {'class_name': 'NumericColumn', 'config': {'key': 'Tile101', 'shape': (1,), 'default_value': None, 'dtype': 'float64', 'normalizer_fn': None}}, {'class_name': 'NumericColumn', 'config': {'key': 'Tile102', 'shape': (1,), 'default_value': None, 'dtype': 'float64', 'normalizer_fn': None}}, {'class_name': 'NumericColumn', 'config': {'key': 'Tile103', 'shape': (1,), 'default_value': None, 'dtype': 'float64', 'normalizer_fn': None}}, {'class_name': 'NumericColumn', 'config': {'key': 'Tile104', 'shape': (1,), 'default_value': None, 'dtype': 'float64', 'normalizer_fn': None}}, {'class_name': 'NumericColumn', 'config': {'key': 'Tile105', 'shape': (1,), 'default_value': None, 'dtype': 'float64', 'normalizer_fn': None}}, {'class_name': 'NumericColumn', 'config': {'key': 'Tile106', 'shape': (1,), 'default_value': None, 'dtype': 'float64', 'normalizer_fn': None}}, {'class_name': 'NumericColumn', 'config': {'key': 'Tile107', 'shape': (1,), 'default_value': None, 'dtype': 'float64', 'normalizer_fn': None}}, {'class_name': 'NumericColumn', 'config': {'key': 'Tile108', 'shape': (1,), 'default_value': None, 'dtype': 'float64', 'normalizer_fn': None}}, {'class_name': 'NumericColumn', 'config': {'key': 'Tile109', 'shape': (1,), 'default_value': None, 'dtype': 'float64', 'normalizer_fn': None}}, {'class_name': 'NumericColumn', 'config': {'key': 'Tile11', 'shape': (1,), 'default_value': None, 'dtype': 'float64', 'normalizer_fn': None}}, {'class_name': 'NumericColumn', 'config': {'key': 'Tile110', 'shape': (1,), 'default_value': None, 'dtype': 'float64', 'normalizer_fn': None}}, {'class_name': 'NumericColumn', 'config': {'key': 'Tile111', 'shape': (1,), 'default_value': None, 'dtype': 'float64', 'normalizer_fn': None}}, {'class_name': 'NumericColumn', 'config': {'key': 'Tile112', 'shape': (1,), 'default_value': None, 'dtype': 'float64', 'normalizer_fn': None}}, {'class_name': 'NumericColumn', 'config': {'key': 'Tile113', 'shape': (1,), 'default_value': None, 'dtype': 'float64', 'normalizer_fn': None}}, {'class_name': 'NumericColumn', 'config': {'key': 'Tile114', 'shape': (1,), 'default_value': None, 'dtype': 'float64', 'normalizer_fn': None}}, {'class_name': 'NumericColumn', 'config': {'key': 'Tile115', 'shape': (1,), 'default_value': None, 'dtype': 'float64', 'normalizer_fn': None}}, {'class_name': 'NumericColumn', 'config': {'key': 'Tile116', 'shape': (1,), 'default_value': None, 'dtype': 'float64', 'normalizer_fn': None}}, {'class_name': 'NumericColumn', 'config': {'key': 'Tile117', 'shape': (1,), 'default_value': None, 'dtype': 'float64', 'normalizer_fn': None}}, {'class_name': 'NumericColumn', 'config': {'key': 'Tile118', 'shape': (1,), 'default_value': None, 'dtype': 'float64', 'normalizer_fn': None}}, {'class_name': 'NumericColumn', 'config': {'key': 'Tile119', 'shape': (1,), 'default_value': None, 'dtype': 'float64', 'normalizer_fn': None}}, {'class_name': 'NumericColumn', 'config': {'key': 'Tile12', 'shape': (1,), 'default_value': None, 'dtype': 'float64', 'normalizer_fn': None}}, {'class_name': 'NumericColumn', 'config': {'key': 'Tile120', 'shape': (1,), 'default_value': None, 'dtype': 'float64', 'normalizer_fn': None}}, {'class_name': 'NumericColumn', 'config': {'key': 'Tile121', 'shape': (1,), 'default_value': None, 'dtype': 'float64', 'normalizer_fn': None}}, {'class_name': 'NumericColumn', 'config': {'key': 'Tile122', 'shape': (1,), 'default_value': None, 'dtype': 'float64', 'normalizer_fn': None}}, {'class_name': 'NumericColumn', 'config': {'key': 'Tile123', 'shape': (1,), 'default_value': None, 'dtype': 'float64', 'normalizer_fn': None}}, {'class_name': 'NumericColumn', 'config': {'key': 'Tile124', 'shape': (1,), 'default_value': None, 'dtype': 'float64', 'normalizer_fn': None}}, {'class_name': 'NumericColumn', 'config': {'key': 'Tile125', 'shape': (1,), 'default_value': None, 'dtype': 'float64', 'normalizer_fn': None}}, {'class_name': 'NumericColumn', 'config': {'key': 'Tile126', 'shape': (1,), 'default_value': None, 'dtype': 'float64', 'normalizer_fn': None}}, {'class_name': 'NumericColumn', 'config': {'key': 'Tile127', 'shape': (1,), 'default_value': None, 'dtype': 'float64', 'normalizer_fn': None}}, {'class_name': 'NumericColumn', 'config': {'key': 'Tile128', 'shape': (1,), 'default_value': None, 'dtype': 'float64', 'normalizer_fn': None}}, {'class_name': 'NumericColumn', 'config': {'key': 'Tile129', 'shape': (1,), 'default_value': None, 'dtype': 'float64', 'normalizer_fn': None}}, {'class_name': 'NumericColumn', 'config': {'key': 'Tile13', 'shape': (1,), 'default_value': None, 'dtype': 'float64', 'normalizer_fn': None}}, {'class_name': 'NumericColumn', 'config': {'key': 'Tile130', 'shape': (1,), 'default_value': None, 'dtype': 'float64', 'normalizer_fn': None}}, {'class_name': 'NumericColumn', 'config': {'key': 'Tile131', 'shape': (1,), 'default_value': None, 'dtype': 'float64', 'normalizer_fn': None}}, {'class_name': 'NumericColumn', 'config': {'key': 'Tile132', 'shape': (1,), 'default_value': None, 'dtype': 'float64', 'normalizer_fn': None}}, {'class_name': 'NumericColumn', 'config': {'key': 'Tile133', 'shape': (1,), 'default_value': None, 'dtype': 'float64', 'normalizer_fn': None}}, {'class_name': 'NumericColumn', 'config': {'key': 'Tile134', 'shape': (1,), 'default_value': None, 'dtype': 'float64', 'normalizer_fn': None}}, {'class_name': 'NumericColumn', 'config': {'key': 'Tile135', 'shape': (1,), 'default_value': None, 'dtype': 'float64', 'normalizer_fn': None}}, {'class_name': 'NumericColumn', 'config': {'key': 'Tile136', 'shape': (1,), 'default_value': None, 'dtype': 'float64', 'normalizer_fn': None}}, {'class_name': 'NumericColumn', 'config': {'key': 'Tile137', 'shape': (1,), 'default_value': None, 'dtype': 'float64', 'normalizer_fn': None}}, {'class_name': 'NumericColumn', 'config': {'key': 'Tile138', 'shape': (1,), 'default_value': None, 'dtype': 'float64', 'normalizer_fn': None}}, {'class_name': 'NumericColumn', 'config': {'key': 'Tile139', 'shape': (1,), 'default_value': None, 'dtype': 'float64', 'normalizer_fn': None}}, {'class_name': 'NumericColumn', 'config': {'key': 'Tile14', 'shape': (1,), 'default_value': None, 'dtype': 'float64', 'normalizer_fn': None}}, {'class_name': 'NumericColumn', 'config': {'key': 'Tile140', 'shape': (1,), 'default_value': None, 'dtype': 'float64', 'normalizer_fn': None}}, {'class_name': 'NumericColumn', 'config': {'key': 'Tile141', 'shape': (1,), 'default_value': None, 'dtype': 'float64', 'normalizer_fn': None}}, {'class_name': 'NumericColumn', 'config': {'key': 'Tile142', 'shape': (1,), 'default_value': None, 'dtype': 'float64', 'normalizer_fn': None}}, {'class_name': 'NumericColumn', 'config': {'key': 'Tile143', 'shape': (1,), 'default_value': None, 'dtype': 'float64', 'normalizer_fn': None}}, {'class_name': 'NumericColumn', 'config': {'key': 'Tile144', 'shape': (1,), 'default_value': None, 'dtype': 'float64', 'normalizer_fn': None}}, {'class_name': 'NumericColumn', 'config': {'key': 'Tile145', 'shape': (1,), 'default_value': None, 'dtype': 'float64', 'normalizer_fn': None}}, {'class_name': 'NumericColumn', 'config': {'key': 'Tile146', 'shape': (1,), 'default_value': None, 'dtype': 'float64', 'normalizer_fn': None}}, {'class_name': 'NumericColumn', 'config': {'key': 'Tile147', 'shape': (1,), 'default_value': None, 'dtype': 'float64', 'normalizer_fn': None}}, {'class_name': 'NumericColumn', 'config': {'key': 'Tile148', 'shape': (1,), 'default_value': None, 'dtype': 'float64', 'normalizer_fn': None}}, {'class_name': 'NumericColumn', 'config': {'key': 'Tile149', 'shape': (1,), 'default_value': None, 'dtype': 'float64', 'normalizer_fn': None}}, {'class_name': 'NumericColumn', 'config': {'key': 'Tile15', 'shape': (1,), 'default_value': None, 'dtype': 'float64', 'normalizer_fn': None}}, {'class_name': 'NumericColumn', 'config': {'key': 'Tile150', 'shape': (1,), 'default_value': None, 'dtype': 'float64', 'normalizer_fn': None}}, {'class_name': 'NumericColumn', 'config': {'key': 'Tile151', 'shape': (1,), 'default_value': None, 'dtype': 'float64', 'normalizer_fn': None}}, {'class_name': 'NumericColumn', 'config': {'key': 'Tile152', 'shape': (1,), 'default_value': None, 'dtype': 'float64', 'normalizer_fn': None}}, {'class_name': 'NumericColumn', 'config': {'key': 'Tile153', 'shape': (1,), 'default_value': None, 'dtype': 'float64', 'normalizer_fn': None}}, {'class_name': 'NumericColumn', 'config': {'key': 'Tile154', 'shape': (1,), 'default_value': None, 'dtype': 'float64', 'normalizer_fn': None}}, {'class_name': 'NumericColumn', 'config': {'key': 'Tile155', 'shape': (1,), 'default_value': None, 'dtype': 'float64', 'normalizer_fn': None}}, {'class_name': 'NumericColumn', 'config': {'key': 'Tile156', 'shape': (1,), 'default_value': None, 'dtype': 'float64', 'normalizer_fn': None}}, {'class_name': 'NumericColumn', 'config': {'key': 'Tile157', 'shape': (1,), 'default_value': None, 'dtype': 'float64', 'normalizer_fn': None}}, {'class_name': 'NumericColumn', 'config': {'key': 'Tile158', 'shape': (1,), 'default_value': None, 'dtype': 'float64', 'normalizer_fn': None}}, {'class_name': 'NumericColumn', 'config': {'key': 'Tile159', 'shape': (1,), 'default_value': None, 'dtype': 'float64', 'normalizer_fn': None}}, {'class_name': 'NumericColumn', 'config': {'key': 'Tile16', 'shape': (1,), 'default_value': None, 'dtype': 'float64', 'normalizer_fn': None}}, {'class_name': 'NumericColumn', 'config': {'key': 'Tile160', 'shape': (1,), 'default_value': None, 'dtype': 'float64', 'normalizer_fn': None}}, {'class_name': 'NumericColumn', 'config': {'key': 'Tile161', 'shape': (1,), 'default_value': None, 'dtype': 'float64', 'normalizer_fn': None}}, {'class_name': 'NumericColumn', 'config': {'key': 'Tile162', 'shape': (1,), 'default_value': None, 'dtype': 'float64', 'normalizer_fn': None}}, {'class_name': 'NumericColumn', 'config': {'key': 'Tile163', 'shape': (1,), 'default_value': None, 'dtype': 'float64', 'normalizer_fn': None}}, {'class_name': 'NumericColumn', 'config': {'key': 'Tile164', 'shape': (1,), 'default_value': None, 'dtype': 'float64', 'normalizer_fn': None}}, {'class_name': 'NumericColumn', 'config': {'key': 'Tile165', 'shape': (1,), 'default_value': None, 'dtype': 'float64', 'normalizer_fn': None}}, {'class_name': 'NumericColumn', 'config': {'key': 'Tile166', 'shape': (1,), 'default_value': None, 'dtype': 'float64', 'normalizer_fn': None}}, {'class_name': 'NumericColumn', 'config': {'key': 'Tile167', 'shape': (1,), 'default_value': None, 'dtype': 'float64', 'normalizer_fn': None}}, {'class_name': 'NumericColumn', 'config': {'key': 'Tile168', 'shape': (1,), 'default_value': None, 'dtype': 'float64', 'normalizer_fn': None}}, {'class_name': 'NumericColumn', 'config': {'key': 'Tile169', 'shape': (1,), 'default_value': None, 'dtype': 'float64', 'normalizer_fn': None}}, {'class_name': 'NumericColumn', 'config': {'key': 'Tile17', 'shape': (1,), 'default_value': None, 'dtype': 'float64', 'normalizer_fn': None}}, {'class_name': 'NumericColumn', 'config': {'key': 'Tile170', 'shape': (1,), 'default_value': None, 'dtype': 'float64', 'normalizer_fn': None}}, {'class_name': 'NumericColumn', 'config': {'key': 'Tile171', 'shape': (1,), 'default_value': None, 'dtype': 'float64', 'normalizer_fn': None}}, {'class_name': 'NumericColumn', 'config': {'key': 'Tile172', 'shape': (1,), 'default_value': None, 'dtype': 'float64', 'normalizer_fn': None}}, {'class_name': 'NumericColumn', 'config': {'key': 'Tile173', 'shape': (1,), 'default_value': None, 'dtype': 'float64', 'normalizer_fn': None}}, {'class_name': 'NumericColumn', 'config': {'key': 'Tile174', 'shape': (1,), 'default_value': None, 'dtype': 'float64', 'normalizer_fn': None}}, {'class_name': 'NumericColumn', 'config': {'key': 'Tile175', 'shape': (1,), 'default_value': None, 'dtype': 'float64', 'normalizer_fn': None}}, {'class_name': 'NumericColumn', 'config': {'key': 'Tile176', 'shape': (1,), 'default_value': None, 'dtype': 'float64', 'normalizer_fn': None}}, {'class_name': 'NumericColumn', 'config': {'key': 'Tile177', 'shape': (1,), 'default_value': None, 'dtype': 'float64', 'normalizer_fn': None}}, {'class_name': 'NumericColumn', 'config': {'key': 'Tile178', 'shape': (1,), 'default_value': None, 'dtype': 'float64', 'normalizer_fn': None}}, {'class_name': 'NumericColumn', 'config': {'key': 'Tile179', 'shape': (1,), 'default_value': None, 'dtype': 'float64', 'normalizer_fn': None}}, {'class_name': 'NumericColumn', 'config': {'key': 'Tile18', 'shape': (1,), 'default_value': None, 'dtype': 'float64', 'normalizer_fn': None}}, {'class_name': 'NumericColumn', 'config': {'key': 'Tile180', 'shape': (1,), 'default_value': None, 'dtype': 'float64', 'normalizer_fn': None}}, {'class_name': 'NumericColumn', 'config': {'key': 'Tile181', 'shape': (1,), 'default_value': None, 'dtype': 'float64', 'normalizer_fn': None}}, {'class_name': 'NumericColumn', 'config': {'key': 'Tile182', 'shape': (1,), 'default_value': None, 'dtype': 'float64', 'normalizer_fn': None}}, {'class_name': 'NumericColumn', 'config': {'key': 'Tile183', 'shape': (1,), 'default_value': None, 'dtype': 'float64', 'normalizer_fn': None}}, {'class_name': 'NumericColumn', 'config': {'key': 'Tile184', 'shape': (1,), 'default_value': None, 'dtype': 'float64', 'normalizer_fn': None}}, {'class_name': 'NumericColumn', 'config': {'key': 'Tile185', 'shape': (1,), 'default_value': None, 'dtype': 'float64', 'normalizer_fn': None}}, {'class_name': 'NumericColumn', 'config': {'key': 'Tile186', 'shape': (1,), 'default_value': None, 'dtype': 'float64', 'normalizer_fn': None}}, {'class_name': 'NumericColumn', 'config': {'key': 'Tile187', 'shape': (1,), 'default_value': None, 'dtype': 'float64', 'normalizer_fn': None}}, {'class_name': 'NumericColumn', 'config': {'key': 'Tile188', 'shape': (1,), 'default_value': None, 'dtype': 'float64', 'normalizer_fn': None}}, {'class_name': 'NumericColumn', 'config': {'key': 'Tile189', 'shape': (1,), 'default_value': None, 'dtype': 'float64', 'normalizer_fn': None}}, {'class_name': 'NumericColumn', 'config': {'key': 'Tile19', 'shape': (1,), 'default_value': None, 'dtype': 'float64', 'normalizer_fn': None}}, {'class_name': 'NumericColumn', 'config': {'key': 'Tile190', 'shape': (1,), 'default_value': None, 'dtype': 'float64', 'normalizer_fn': None}}, {'class_name': 'NumericColumn', 'config': {'key': 'Tile191', 'shape': (1,), 'default_value': None, 'dtype': 'float64', 'normalizer_fn': None}}, {'class_name': 'NumericColumn', 'config': {'key': 'Tile192', 'shape': (1,), 'default_value': None, 'dtype': 'float64', 'normalizer_fn': None}}, {'class_name': 'NumericColumn', 'config': {'key': 'Tile193', 'shape': (1,), 'default_value': None, 'dtype': 'float64', 'normalizer_fn': None}}, {'class_name': 'NumericColumn', 'config': {'key': 'Tile194', 'shape': (1,), 'default_value': None, 'dtype': 'float64', 'normalizer_fn': None}}, {'class_name': 'NumericColumn', 'config': {'key': 'Tile195', 'shape': (1,), 'default_value': None, 'dtype': 'float64', 'normalizer_fn': None}}, {'class_name': 'NumericColumn', 'config': {'key': 'Tile196', 'shape': (1,), 'default_value': None, 'dtype': 'float64', 'normalizer_fn': None}}, {'class_name': 'NumericColumn', 'config': {'key': 'Tile197', 'shape': (1,), 'default_value': None, 'dtype': 'float64', 'normalizer_fn': None}}, {'class_name': 'NumericColumn', 'config': {'key': 'Tile198', 'shape': (1,), 'default_value': None, 'dtype': 'float64', 'normalizer_fn': None}}, {'class_name': 'NumericColumn', 'config': {'key': 'Tile199', 'shape': (1,), 'default_value': None, 'dtype': 'float64', 'normalizer_fn': None}}, {'class_name': 'NumericColumn', 'config': {'key': 'Tile2', 'shape': (1,), 'default_value': None, 'dtype': 'float64', 'normalizer_fn': None}}, {'class_name': 'NumericColumn', 'config': {'key': 'Tile20', 'shape': (1,), 'default_value': None, 'dtype': 'float64', 'normalizer_fn': None}}, {'class_name': 'NumericColumn', 'config': {'key': 'Tile200', 'shape': (1,), 'default_value': None, 'dtype': 'float64', 'normalizer_fn': None}}, {'class_name': 'NumericColumn', 'config': {'key': 'Tile201', 'shape': (1,), 'default_value': None, 'dtype': 'float64', 'normalizer_fn': None}}, {'class_name': 'NumericColumn', 'config': {'key': 'Tile202', 'shape': (1,), 'default_value': None, 'dtype': 'float64', 'normalizer_fn': None}}, {'class_name': 'NumericColumn', 'config': {'key': 'Tile203', 'shape': (1,), 'default_value': None, 'dtype': 'float64', 'normalizer_fn': None}}, {'class_name': 'NumericColumn', 'config': {'key': 'Tile204', 'shape': (1,), 'default_value': None, 'dtype': 'float64', 'normalizer_fn': None}}, {'class_name': 'NumericColumn', 'config': {'key': 'Tile205', 'shape': (1,), 'default_value': None, 'dtype': 'float64', 'normalizer_fn': None}}, {'class_name': 'NumericColumn', 'config': {'key': 'Tile206', 'shape': (1,), 'default_value': None, 'dtype': 'float64', 'normalizer_fn': None}}, {'class_name': 'NumericColumn', 'config': {'key': 'Tile207', 'shape': (1,), 'default_value': None, 'dtype': 'float64', 'normalizer_fn': None}}, {'class_name': 'NumericColumn', 'config': {'key': 'Tile208', 'shape': (1,), 'default_value': None, 'dtype': 'float64', 'normalizer_fn': None}}, {'class_name': 'NumericColumn', 'config': {'key': 'Tile209', 'shape': (1,), 'default_value': None, 'dtype': 'float64', 'normalizer_fn': None}}, {'class_name': 'NumericColumn', 'config': {'key': 'Tile21', 'shape': (1,), 'default_value': None, 'dtype': 'float64', 'normalizer_fn': None}}, {'class_name': 'NumericColumn', 'config': {'key': 'Tile210', 'shape': (1,), 'default_value': None, 'dtype': 'float64', 'normalizer_fn': None}}, {'class_name': 'NumericColumn', 'config': {'key': 'Tile211', 'shape': (1,), 'default_value': None, 'dtype': 'float64', 'normalizer_fn': None}}, {'class_name': 'NumericColumn', 'config': {'key': 'Tile212', 'shape': (1,), 'default_value': None, 'dtype': 'float64', 'normalizer_fn': None}}, {'class_name': 'NumericColumn', 'config': {'key': 'Tile213', 'shape': (1,), 'default_value': None, 'dtype': 'float64', 'normalizer_fn': None}}, {'class_name': 'NumericColumn', 'config': {'key': 'Tile214', 'shape': (1,), 'default_value': None, 'dtype': 'float64', 'normalizer_fn': None}}, {'class_name': 'NumericColumn', 'config': {'key': 'Tile215', 'shape': (1,), 'default_value': None, 'dtype': 'float64', 'normalizer_fn': None}}, {'class_name': 'NumericColumn', 'config': {'key': 'Tile216', 'shape': (1,), 'default_value': None, 'dtype': 'float64', 'normalizer_fn': None}}, {'class_name': 'NumericColumn', 'config': {'key': 'Tile217', 'shape': (1,), 'default_value': None, 'dtype': 'float64', 'normalizer_fn': None}}, {'class_name': 'NumericColumn', 'config': {'key': 'Tile218', 'shape': (1,), 'default_value': None, 'dtype': 'float64', 'normalizer_fn': None}}, {'class_name': 'NumericColumn', 'config': {'key': 'Tile219', 'shape': (1,), 'default_value': None, 'dtype': 'float64', 'normalizer_fn': None}}, {'class_name': 'NumericColumn', 'config': {'key': 'Tile22', 'shape': (1,), 'default_value': None, 'dtype': 'float64', 'normalizer_fn': None}}, {'class_name': 'NumericColumn', 'config': {'key': 'Tile220', 'shape': (1,), 'default_value': None, 'dtype': 'float64', 'normalizer_fn': None}}, {'class_name': 'NumericColumn', 'config': {'key': 'Tile221', 'shape': (1,), 'default_value': None, 'dtype': 'float64', 'normalizer_fn': None}}, {'class_name': 'NumericColumn', 'config': {'key': 'Tile222', 'shape': (1,), 'default_value': None, 'dtype': 'float64', 'normalizer_fn': None}}, {'class_name': 'NumericColumn', 'config': {'key': 'Tile223', 'shape': (1,), 'default_value': None, 'dtype': 'float64', 'normalizer_fn': None}}, {'class_name': 'NumericColumn', 'config': {'key': 'Tile224', 'shape': (1,), 'default_value': None, 'dtype': 'float64', 'normalizer_fn': None}}, {'class_name': 'NumericColumn', 'config': {'key': 'Tile225', 'shape': (1,), 'default_value': None, 'dtype': 'float64', 'normalizer_fn': None}}, {'class_name': 'NumericColumn', 'config': {'key': 'Tile226', 'shape': (1,), 'default_value': None, 'dtype': 'float64', 'normalizer_fn': None}}, {'class_name': 'NumericColumn', 'config': {'key': 'Tile227', 'shape': (1,), 'default_value': None, 'dtype': 'float64', 'normalizer_fn': None}}, {'class_name': 'NumericColumn', 'config': {'key': 'Tile228', 'shape': (1,), 'default_value': None, 'dtype': 'float64', 'normalizer_fn': None}}, {'class_name': 'NumericColumn', 'config': {'key': 'Tile229', 'shape': (1,), 'default_value': None, 'dtype': 'float64', 'normalizer_fn': None}}, {'class_name': 'NumericColumn', 'config': {'key': 'Tile23', 'shape': (1,), 'default_value': None, 'dtype': 'float64', 'normalizer_fn': None}}, {'class_name': 'NumericColumn', 'config': {'key': 'Tile230', 'shape': (1,), 'default_value': None, 'dtype': 'float64', 'normalizer_fn': None}}, {'class_name': 'NumericColumn', 'config': {'key': 'Tile231', 'shape': (1,), 'default_value': None, 'dtype': 'float64', 'normalizer_fn': None}}, {'class_name': 'NumericColumn', 'config': {'key': 'Tile232', 'shape': (1,), 'default_value': None, 'dtype': 'float64', 'normalizer_fn': None}}, {'class_name': 'NumericColumn', 'config': {'key': 'Tile233', 'shape': (1,), 'default_value': None, 'dtype': 'float64', 'normalizer_fn': None}}, {'class_name': 'NumericColumn', 'config': {'key': 'Tile234', 'shape': (1,), 'default_value': None, 'dtype': 'float64', 'normalizer_fn': None}}, {'class_name': 'NumericColumn', 'config': {'key': 'Tile235', 'shape': (1,), 'default_value': None, 'dtype': 'float64', 'normalizer_fn': None}}, {'class_name': 'NumericColumn', 'config': {'key': 'Tile236', 'shape': (1,), 'default_value': None, 'dtype': 'float64', 'normalizer_fn': None}}, {'class_name': 'NumericColumn', 'config': {'key': 'Tile237', 'shape': (1,), 'default_value': None, 'dtype': 'float64', 'normalizer_fn': None}}, {'class_name': 'NumericColumn', 'config': {'key': 'Tile238', 'shape': (1,), 'default_value': None, 'dtype': 'float64', 'normalizer_fn': None}}, {'class_name': 'NumericColumn', 'config': {'key': 'Tile239', 'shape': (1,), 'default_value': None, 'dtype': 'float64', 'normalizer_fn': None}}, {'class_name': 'NumericColumn', 'config': {'key': 'Tile24', 'shape': (1,), 'default_value': None, 'dtype': 'float64', 'normalizer_fn': None}}, {'class_name': 'NumericColumn', 'config': {'key': 'Tile240', 'shape': (1,), 'default_value': None, 'dtype': 'float64', 'normalizer_fn': None}}, {'class_name': 'NumericColumn', 'config': {'key': 'Tile241', 'shape': (1,), 'default_value': None, 'dtype': 'float64', 'normalizer_fn': None}}, {'class_name': 'NumericColumn', 'config': {'key': 'Tile242', 'shape': (1,), 'default_value': None, 'dtype': 'float64', 'normalizer_fn': None}}, {'class_name': 'NumericColumn', 'config': {'key': 'Tile243', 'shape': (1,), 'default_value': None, 'dtype': 'float64', 'normalizer_fn': None}}, {'class_name': 'NumericColumn', 'config': {'key': 'Tile244', 'shape': (1,), 'default_value': None, 'dtype': 'float64', 'normalizer_fn': None}}, {'class_name': 'NumericColumn', 'config': {'key': 'Tile245', 'shape': (1,), 'default_value': None, 'dtype': 'float64', 'normalizer_fn': None}}, {'class_name': 'NumericColumn', 'config': {'key': 'Tile246', 'shape': (1,), 'default_value': None, 'dtype': 'float64', 'normalizer_fn': None}}, {'class_name': 'NumericColumn', 'config': {'key': 'Tile247', 'shape': (1,), 'default_value': None, 'dtype': 'float64', 'normalizer_fn': None}}, {'class_name': 'NumericColumn', 'config': {'key': 'Tile248', 'shape': (1,), 'default_value': None, 'dtype': 'float64', 'normalizer_fn': None}}, {'class_name': 'NumericColumn', 'config': {'key': 'Tile249', 'shape': (1,), 'default_value': None, 'dtype': 'float64', 'normalizer_fn': None}}, {'class_name': 'NumericColumn', 'config': {'key': 'Tile25', 'shape': (1,), 'default_value': None, 'dtype': 'float64', 'normalizer_fn': None}}, {'class_name': 'NumericColumn', 'config': {'key': 'Tile250', 'shape': (1,), 'default_value': None, 'dtype': 'float64', 'normalizer_fn': None}}, {'class_name': 'NumericColumn', 'config': {'key': 'Tile251', 'shape': (1,), 'default_value': None, 'dtype': 'float64', 'normalizer_fn': None}}, {'class_name': 'NumericColumn', 'config': {'key': 'Tile252', 'shape': (1,), 'default_value': None, 'dtype': 'float64', 'normalizer_fn': None}}, {'class_name': 'NumericColumn', 'config': {'key': 'Tile253', 'shape': (1,), 'default_value': None, 'dtype': 'float64', 'normalizer_fn': None}}, {'class_name': 'NumericColumn', 'config': {'key': 'Tile254', 'shape': (1,), 'default_value': None, 'dtype': 'float64', 'normalizer_fn': None}}, {'class_name': 'NumericColumn', 'config': {'key': 'Tile255', 'shape': (1,), 'default_value': None, 'dtype': 'float64', 'normalizer_fn': None}}, {'class_name': 'NumericColumn', 'config': {'key': 'Tile256', 'shape': (1,), 'default_value': None, 'dtype': 'float64', 'normalizer_fn': None}}, {'class_name': 'NumericColumn', 'config': {'key': 'Tile257', 'shape': (1,), 'default_value': None, 'dtype': 'float64', 'normalizer_fn': None}}, {'class_name': 'NumericColumn', 'config': {'key': 'Tile258', 'shape': (1,), 'default_value': None, 'dtype': 'float64', 'normalizer_fn': None}}, {'class_name': 'NumericColumn', 'config': {'key': 'Tile259', 'shape': (1,), 'default_value': None, 'dtype': 'float64', 'normalizer_fn': None}}, {'class_name': 'NumericColumn', 'config': {'key': 'Tile26', 'shape': (1,), 'default_value': None, 'dtype': 'float64', 'normalizer_fn': None}}, {'class_name': 'NumericColumn', 'config': {'key': 'Tile260', 'shape': (1,), 'default_value': None, 'dtype': 'float64', 'normalizer_fn': None}}, {'class_name': 'NumericColumn', 'config': {'key': 'Tile261', 'shape': (1,), 'default_value': None, 'dtype': 'float64', 'normalizer_fn': None}}, {'class_name': 'NumericColumn', 'config': {'key': 'Tile262', 'shape': (1,), 'default_value': None, 'dtype': 'float64', 'normalizer_fn': None}}, {'class_name': 'NumericColumn', 'config': {'key': 'Tile263', 'shape': (1,), 'default_value': None, 'dtype': 'float64', 'normalizer_fn': None}}, {'class_name': 'NumericColumn', 'config': {'key': 'Tile264', 'shape': (1,), 'default_value': None, 'dtype': 'float64', 'normalizer_fn': None}}, {'class_name': 'NumericColumn', 'config': {'key': 'Tile265', 'shape': (1,), 'default_value': None, 'dtype': 'float64', 'normalizer_fn': None}}, {'class_name': 'NumericColumn', 'config': {'key': 'Tile266', 'shape': (1,), 'default_value': None, 'dtype': 'float64', 'normalizer_fn': None}}, {'class_name': 'NumericColumn', 'config': {'key': 'Tile267', 'shape': (1,), 'default_value': None, 'dtype': 'float64', 'normalizer_fn': None}}, {'class_name': 'NumericColumn', 'config': {'key': 'Tile268', 'shape': (1,), 'default_value': None, 'dtype': 'float64', 'normalizer_fn': None}}, {'class_name': 'NumericColumn', 'config': {'key': 'Tile269', 'shape': (1,), 'default_value': None, 'dtype': 'float64', 'normalizer_fn': None}}, {'class_name': 'NumericColumn', 'config': {'key': 'Tile27', 'shape': (1,), 'default_value': None, 'dtype': 'float64', 'normalizer_fn': None}}, {'class_name': 'NumericColumn', 'config': {'key': 'Tile270', 'shape': (1,), 'default_value': None, 'dtype': 'float64', 'normalizer_fn': None}}, {'class_name': 'NumericColumn', 'config': {'key': 'Tile271', 'shape': (1,), 'default_value': None, 'dtype': 'float64', 'normalizer_fn': None}}, {'class_name': 'NumericColumn', 'config': {'key': 'Tile272', 'shape': (1,), 'default_value': None, 'dtype': 'float64', 'normalizer_fn': None}}, {'class_name': 'NumericColumn', 'config': {'key': 'Tile273', 'shape': (1,), 'default_value': None, 'dtype': 'float64', 'normalizer_fn': None}}, {'class_name': 'NumericColumn', 'config': {'key': 'Tile274', 'shape': (1,), 'default_value': None, 'dtype': 'float64', 'normalizer_fn': None}}, {'class_name': 'NumericColumn', 'config': {'key': 'Tile275', 'shape': (1,), 'default_value': None, 'dtype': 'float64', 'normalizer_fn': None}}, {'class_name': 'NumericColumn', 'config': {'key': 'Tile276', 'shape': (1,), 'default_value': None, 'dtype': 'float64', 'normalizer_fn': None}}, {'class_name': 'NumericColumn', 'config': {'key': 'Tile277', 'shape': (1,), 'default_value': None, 'dtype': 'float64', 'normalizer_fn': None}}, {'class_name': 'NumericColumn', 'config': {'key': 'Tile278', 'shape': (1,), 'default_value': None, 'dtype': 'float64', 'normalizer_fn': None}}, {'class_name': 'NumericColumn', 'config': {'key': 'Tile279', 'shape': (1,), 'default_value': None, 'dtype': 'float64', 'normalizer_fn': None}}, {'class_name': 'NumericColumn', 'config': {'key': 'Tile28', 'shape': (1,), 'default_value': None, 'dtype': 'float64', 'normalizer_fn': None}}, {'class_name': 'NumericColumn', 'config': {'key': 'Tile280', 'shape': (1,), 'default_value': None, 'dtype': 'float64', 'normalizer_fn': None}}, {'class_name': 'NumericColumn', 'config': {'key': 'Tile281', 'shape': (1,), 'default_value': None, 'dtype': 'float64', 'normalizer_fn': None}}, {'class_name': 'NumericColumn', 'config': {'key': 'Tile282', 'shape': (1,), 'default_value': None, 'dtype': 'float64', 'normalizer_fn': None}}, {'class_name': 'NumericColumn', 'config': {'key': 'Tile283', 'shape': (1,), 'default_value': None, 'dtype': 'float64', 'normalizer_fn': None}}, {'class_name': 'NumericColumn', 'config': {'key': 'Tile284', 'shape': (1,), 'default_value': None, 'dtype': 'float64', 'normalizer_fn': None}}, {'class_name': 'NumericColumn', 'config': {'key': 'Tile285', 'shape': (1,), 'default_value': None, 'dtype': 'float64', 'normalizer_fn': None}}, {'class_name': 'NumericColumn', 'config': {'key': 'Tile286', 'shape': (1,), 'default_value': None, 'dtype': 'float64', 'normalizer_fn': None}}, {'class_name': 'NumericColumn', 'config': {'key': 'Tile287', 'shape': (1,), 'default_value': None, 'dtype': 'float64', 'normalizer_fn': None}}, {'class_name': 'NumericColumn', 'config': {'key': 'Tile288', 'shape': (1,), 'default_value': None, 'dtype': 'float64', 'normalizer_fn': None}}, {'class_name': 'NumericColumn', 'config': {'key': 'Tile289', 'shape': (1,), 'default_value': None, 'dtype': 'float64', 'normalizer_fn': None}}, {'class_name': 'NumericColumn', 'config': {'key': 'Tile29', 'shape': (1,), 'default_value': None, 'dtype': 'float64', 'normalizer_fn': None}}, {'class_name': 'NumericColumn', 'config': {'key': 'Tile290', 'shape': (1,), 'default_value': None, 'dtype': 'float64', 'normalizer_fn': None}}, {'class_name': 'NumericColumn', 'config': {'key': 'Tile291', 'shape': (1,), 'default_value': None, 'dtype': 'float64', 'normalizer_fn': None}}, {'class_name': 'NumericColumn', 'config': {'key': 'Tile292', 'shape': (1,), 'default_value': None, 'dtype': 'float64', 'normalizer_fn': None}}, {'class_name': 'NumericColumn', 'config': {'key': 'Tile293', 'shape': (1,), 'default_value': None, 'dtype': 'float64', 'normalizer_fn': None}}, {'class_name': 'NumericColumn', 'config': {'key': 'Tile294', 'shape': (1,), 'default_value': None, 'dtype': 'float64', 'normalizer_fn': None}}, {'class_name': 'NumericColumn', 'config': {'key': 'Tile295', 'shape': (1,), 'default_value': None, 'dtype': 'float64', 'normalizer_fn': None}}, {'class_name': 'NumericColumn', 'config': {'key': 'Tile296', 'shape': (1,), 'default_value': None, 'dtype': 'float64', 'normalizer_fn': None}}, {'class_name': 'NumericColumn', 'config': {'key': 'Tile297', 'shape': (1,), 'default_value': None, 'dtype': 'float64', 'normalizer_fn': None}}, {'class_name': 'NumericColumn', 'config': {'key': 'Tile298', 'shape': (1,), 'default_value': None, 'dtype': 'float64', 'normalizer_fn': None}}, {'class_name': 'NumericColumn', 'config': {'key': 'Tile299', 'shape': (1,), 'default_value': None, 'dtype': 'float64', 'normalizer_fn': None}}, {'class_name': 'NumericColumn', 'config': {'key': 'Tile3', 'shape': (1,), 'default_value': None, 'dtype': 'float64', 'normalizer_fn': None}}, {'class_name': 'NumericColumn', 'config': {'key': 'Tile30', 'shape': (1,), 'default_value': None, 'dtype': 'float64', 'normalizer_fn': None}}, {'class_name': 'NumericColumn', 'config': {'key': 'Tile300', 'shape': (1,), 'default_value': None, 'dtype': 'float64', 'normalizer_fn': None}}, {'class_name': 'NumericColumn', 'config': {'key': 'Tile301', 'shape': (1,), 'default_value': None, 'dtype': 'float64', 'normalizer_fn': None}}, {'class_name': 'NumericColumn', 'config': {'key': 'Tile302', 'shape': (1,), 'default_value': None, 'dtype': 'float64', 'normalizer_fn': None}}, {'class_name': 'NumericColumn', 'config': {'key': 'Tile303', 'shape': (1,), 'default_value': None, 'dtype': 'float64', 'normalizer_fn': None}}, {'class_name': 'NumericColumn', 'config': {'key': 'Tile304', 'shape': (1,), 'default_value': None, 'dtype': 'float64', 'normalizer_fn': None}}, {'class_name': 'NumericColumn', 'config': {'key': 'Tile305', 'shape': (1,), 'default_value': None, 'dtype': 'float64', 'normalizer_fn': None}}, {'class_name': 'NumericColumn', 'config': {'key': 'Tile306', 'shape': (1,), 'default_value': None, 'dtype': 'float64', 'normalizer_fn': None}}, {'class_name': 'NumericColumn', 'config': {'key': 'Tile307', 'shape': (1,), 'default_value': None, 'dtype': 'float64', 'normalizer_fn': None}}, {'class_name': 'NumericColumn', 'config': {'key': 'Tile308', 'shape': (1,), 'default_value': None, 'dtype': 'float64', 'normalizer_fn': None}}, {'class_name': 'NumericColumn', 'config': {'key': 'Tile309', 'shape': (1,), 'default_value': None, 'dtype': 'float64', 'normalizer_fn': None}}, {'class_name': 'NumericColumn', 'config': {'key': 'Tile31', 'shape': (1,), 'default_value': None, 'dtype': 'float64', 'normalizer_fn': None}}, {'class_name': 'NumericColumn', 'config': {'key': 'Tile310', 'shape': (1,), 'default_value': None, 'dtype': 'float64', 'normalizer_fn': None}}, {'class_name': 'NumericColumn', 'config': {'key': 'Tile311', 'shape': (1,), 'default_value': None, 'dtype': 'float64', 'normalizer_fn': None}}, {'class_name': 'NumericColumn', 'config': {'key': 'Tile312', 'shape': (1,), 'default_value': None, 'dtype': 'float64', 'normalizer_fn': None}}, {'class_name': 'NumericColumn', 'config': {'key': 'Tile313', 'shape': (1,), 'default_value': None, 'dtype': 'float64', 'normalizer_fn': None}}, {'class_name': 'NumericColumn', 'config': {'key': 'Tile314', 'shape': (1,), 'default_value': None, 'dtype': 'float64', 'normalizer_fn': None}}, {'class_name': 'NumericColumn', 'config': {'key': 'Tile315', 'shape': (1,), 'default_value': None, 'dtype': 'float64', 'normalizer_fn': None}}, {'class_name': 'NumericColumn', 'config': {'key': 'Tile316', 'shape': (1,), 'default_value': None, 'dtype': 'float64', 'normalizer_fn': None}}, {'class_name': 'NumericColumn', 'config': {'key': 'Tile317', 'shape': (1,), 'default_value': None, 'dtype': 'float64', 'normalizer_fn': None}}, {'class_name': 'NumericColumn', 'config': {'key': 'Tile318', 'shape': (1,), 'default_value': None, 'dtype': 'float64', 'normalizer_fn': None}}, {'class_name': 'NumericColumn', 'config': {'key': 'Tile319', 'shape': (1,), 'default_value': None, 'dtype': 'float64', 'normalizer_fn': None}}, {'class_name': 'NumericColumn', 'config': {'key': 'Tile32', 'shape': (1,), 'default_value': None, 'dtype': 'float64', 'normalizer_fn': None}}, {'class_name': 'NumericColumn', 'config': {'key': 'Tile320', 'shape': (1,), 'default_value': None, 'dtype': 'float64', 'normalizer_fn': None}}, {'class_name': 'NumericColumn', 'config': {'key': 'Tile321', 'shape': (1,), 'default_value': None, 'dtype': 'float64', 'normalizer_fn': None}}, {'class_name': 'NumericColumn', 'config': {'key': 'Tile322', 'shape': (1,), 'default_value': None, 'dtype': 'float64', 'normalizer_fn': None}}, {'class_name': 'NumericColumn', 'config': {'key': 'Tile323', 'shape': (1,), 'default_value': None, 'dtype': 'float64', 'normalizer_fn': None}}, {'class_name': 'NumericColumn', 'config': {'key': 'Tile324', 'shape': (1,), 'default_value': None, 'dtype': 'float64', 'normalizer_fn': None}}, {'class_name': 'NumericColumn', 'config': {'key': 'Tile325', 'shape': (1,), 'default_value': None, 'dtype': 'float64', 'normalizer_fn': None}}, {'class_name': 'NumericColumn', 'config': {'key': 'Tile326', 'shape': (1,), 'default_value': None, 'dtype': 'float64', 'normalizer_fn': None}}, {'class_name': 'NumericColumn', 'config': {'key': 'Tile327', 'shape': (1,), 'default_value': None, 'dtype': 'float64', 'normalizer_fn': None}}, {'class_name': 'NumericColumn', 'config': {'key': 'Tile328', 'shape': (1,), 'default_value': None, 'dtype': 'float64', 'normalizer_fn': None}}, {'class_name': 'NumericColumn', 'config': {'key': 'Tile329', 'shape': (1,), 'default_value': None, 'dtype': 'float64', 'normalizer_fn': None}}, {'class_name': 'NumericColumn', 'config': {'key': 'Tile33', 'shape': (1,), 'default_value': None, 'dtype': 'float64', 'normalizer_fn': None}}, {'class_name': 'NumericColumn', 'config': {'key': 'Tile330', 'shape': (1,), 'default_value': None, 'dtype': 'float64', 'normalizer_fn': None}}, {'class_name': 'NumericColumn', 'config': {'key': 'Tile331', 'shape': (1,), 'default_value': None, 'dtype': 'float64', 'normalizer_fn': None}}, {'class_name': 'NumericColumn', 'config': {'key': 'Tile332', 'shape': (1,), 'default_value': None, 'dtype': 'float64', 'normalizer_fn': None}}, {'class_name': 'NumericColumn', 'config': {'key': 'Tile333', 'shape': (1,), 'default_value': None, 'dtype': 'float64', 'normalizer_fn': None}}, {'class_name': 'NumericColumn', 'config': {'key': 'Tile334', 'shape': (1,), 'default_value': None, 'dtype': 'float64', 'normalizer_fn': None}}, {'class_name': 'NumericColumn', 'config': {'key': 'Tile335', 'shape': (1,), 'default_value': None, 'dtype': 'float64', 'normalizer_fn': None}}, {'class_name': 'NumericColumn', 'config': {'key': 'Tile336', 'shape': (1,), 'default_value': None, 'dtype': 'float64', 'normalizer_fn': None}}, {'class_name': 'NumericColumn', 'config': {'key': 'Tile337', 'shape': (1,), 'default_value': None, 'dtype': 'float64', 'normalizer_fn': None}}, {'class_name': 'NumericColumn', 'config': {'key': 'Tile338', 'shape': (1,), 'default_value': None, 'dtype': 'float64', 'normalizer_fn': None}}, {'class_name': 'NumericColumn', 'config': {'key': 'Tile339', 'shape': (1,), 'default_value': None, 'dtype': 'float64', 'normalizer_fn': None}}, {'class_name': 'NumericColumn', 'config': {'key': 'Tile34', 'shape': (1,), 'default_value': None, 'dtype': 'float64', 'normalizer_fn': None}}, {'class_name': 'NumericColumn', 'config': {'key': 'Tile340', 'shape': (1,), 'default_value': None, 'dtype': 'float64', 'normalizer_fn': None}}, {'class_name': 'NumericColumn', 'config': {'key': 'Tile341', 'shape': (1,), 'default_value': None, 'dtype': 'float64', 'normalizer_fn': None}}, {'class_name': 'NumericColumn', 'config': {'key': 'Tile35', 'shape': (1,), 'default_value': None, 'dtype': 'float64', 'normalizer_fn': None}}, {'class_name': 'NumericColumn', 'config': {'key': 'Tile36', 'shape': (1,), 'default_value': None, 'dtype': 'float64', 'normalizer_fn': None}}, {'class_name': 'NumericColumn', 'config': {'key': 'Tile37', 'shape': (1,), 'default_value': None, 'dtype': 'float64', 'normalizer_fn': None}}, {'class_name': 'NumericColumn', 'config': {'key': 'Tile38', 'shape': (1,), 'default_value': None, 'dtype': 'float64', 'normalizer_fn': None}}, {'class_name': 'NumericColumn', 'config': {'key': 'Tile39', 'shape': (1,), 'default_value': None, 'dtype': 'float64', 'normalizer_fn': None}}, {'class_name': 'NumericColumn', 'config': {'key': 'Tile4', 'shape': (1,), 'default_value': None, 'dtype': 'float64', 'normalizer_fn': None}}, {'class_name': 'NumericColumn', 'config': {'key': 'Tile40', 'shape': (1,), 'default_value': None, 'dtype': 'float64', 'normalizer_fn': None}}, {'class_name': 'NumericColumn', 'config': {'key': 'Tile41', 'shape': (1,), 'default_value': None, 'dtype': 'float64', 'normalizer_fn': None}}, {'class_name': 'NumericColumn', 'config': {'key': 'Tile42', 'shape': (1,), 'default_value': None, 'dtype': 'float64', 'normalizer_fn': None}}, {'class_name': 'NumericColumn', 'config': {'key': 'Tile43', 'shape': (1,), 'default_value': None, 'dtype': 'float64', 'normalizer_fn': None}}, {'class_name': 'NumericColumn', 'config': {'key': 'Tile44', 'shape': (1,), 'default_value': None, 'dtype': 'float64', 'normalizer_fn': None}}, {'class_name': 'NumericColumn', 'config': {'key': 'Tile45', 'shape': (1,), 'default_value': None, 'dtype': 'float64', 'normalizer_fn': None}}, {'class_name': 'NumericColumn', 'config': {'key': 'Tile46', 'shape': (1,), 'default_value': None, 'dtype': 'float64', 'normalizer_fn': None}}, {'class_name': 'NumericColumn', 'config': {'key': 'Tile47', 'shape': (1,), 'default_value': None, 'dtype': 'float64', 'normalizer_fn': None}}, {'class_name': 'NumericColumn', 'config': {'key': 'Tile48', 'shape': (1,), 'default_value': None, 'dtype': 'float64', 'normalizer_fn': None}}, {'class_name': 'NumericColumn', 'config': {'key': 'Tile49', 'shape': (1,), 'default_value': None, 'dtype': 'float64', 'normalizer_fn': None}}, {'class_name': 'NumericColumn', 'config': {'key': 'Tile5', 'shape': (1,), 'default_value': None, 'dtype': 'float64', 'normalizer_fn': None}}, {'class_name': 'NumericColumn', 'config': {'key': 'Tile50', 'shape': (1,), 'default_value': None, 'dtype': 'float64', 'normalizer_fn': None}}, {'class_name': 'NumericColumn', 'config': {'key': 'Tile51', 'shape': (1,), 'default_value': None, 'dtype': 'float64', 'normalizer_fn': None}}, {'class_name': 'NumericColumn', 'config': {'key': 'Tile52', 'shape': (1,), 'default_value': None, 'dtype': 'float64', 'normalizer_fn': None}}, {'class_name': 'NumericColumn', 'config': {'key': 'Tile53', 'shape': (1,), 'default_value': None, 'dtype': 'float64', 'normalizer_fn': None}}, {'class_name': 'NumericColumn', 'config': {'key': 'Tile54', 'shape': (1,), 'default_value': None, 'dtype': 'float64', 'normalizer_fn': None}}, {'class_name': 'NumericColumn', 'config': {'key': 'Tile55', 'shape': (1,), 'default_value': None, 'dtype': 'float64', 'normalizer_fn': None}}, {'class_name': 'NumericColumn', 'config': {'key': 'Tile56', 'shape': (1,), 'default_value': None, 'dtype': 'float64', 'normalizer_fn': None}}, {'class_name': 'NumericColumn', 'config': {'key': 'Tile57', 'shape': (1,), 'default_value': None, 'dtype': 'float64', 'normalizer_fn': None}}, {'class_name': 'NumericColumn', 'config': {'key': 'Tile58', 'shape': (1,), 'default_value': None, 'dtype': 'float64', 'normalizer_fn': None}}, {'class_name': 'NumericColumn', 'config': {'key': 'Tile59', 'shape': (1,), 'default_value': None, 'dtype': 'float64', 'normalizer_fn': None}}, {'class_name': 'NumericColumn', 'config': {'key': 'Tile6', 'shape': (1,), 'default_value': None, 'dtype': 'float64', 'normalizer_fn': None}}, {'class_name': 'NumericColumn', 'config': {'key': 'Tile60', 'shape': (1,), 'default_value': None, 'dtype': 'float64', 'normalizer_fn': None}}, {'class_name': 'NumericColumn', 'config': {'key': 'Tile61', 'shape': (1,), 'default_value': None, 'dtype': 'float64', 'normalizer_fn': None}}, {'class_name': 'NumericColumn', 'config': {'key': 'Tile62', 'shape': (1,), 'default_value': None, 'dtype': 'float64', 'normalizer_fn': None}}, {'class_name': 'NumericColumn', 'config': {'key': 'Tile63', 'shape': (1,), 'default_value': None, 'dtype': 'float64', 'normalizer_fn': None}}, {'class_name': 'NumericColumn', 'config': {'key': 'Tile64', 'shape': (1,), 'default_value': None, 'dtype': 'float64', 'normalizer_fn': None}}, {'class_name': 'NumericColumn', 'config': {'key': 'Tile65', 'shape': (1,), 'default_value': None, 'dtype': 'float64', 'normalizer_fn': None}}, {'class_name': 'NumericColumn', 'config': {'key': 'Tile66', 'shape': (1,), 'default_value': None, 'dtype': 'float64', 'normalizer_fn': None}}, {'class_name': 'NumericColumn', 'config': {'key': 'Tile67', 'shape': (1,), 'default_value': None, 'dtype': 'float64', 'normalizer_fn': None}}, {'class_name': 'NumericColumn', 'config': {'key': 'Tile68', 'shape': (1,), 'default_value': None, 'dtype': 'float64', 'normalizer_fn': None}}, {'class_name': 'NumericColumn', 'config': {'key': 'Tile69', 'shape': (1,), 'default_value': None, 'dtype': 'float64', 'normalizer_fn': None}}, {'class_name': 'NumericColumn', 'config': {'key': 'Tile7', 'shape': (1,), 'default_value': None, 'dtype': 'float64', 'normalizer_fn': None}}, {'class_name': 'NumericColumn', 'config': {'key': 'Tile70', 'shape': (1,), 'default_value': None, 'dtype': 'float64', 'normalizer_fn': None}}, {'class_name': 'NumericColumn', 'config': {'key': 'Tile71', 'shape': (1,), 'default_value': None, 'dtype': 'float64', 'normalizer_fn': None}}, {'class_name': 'NumericColumn', 'config': {'key': 'Tile72', 'shape': (1,), 'default_value': None, 'dtype': 'float64', 'normalizer_fn': None}}, {'class_name': 'NumericColumn', 'config': {'key': 'Tile73', 'shape': (1,), 'default_value': None, 'dtype': 'float64', 'normalizer_fn': None}}, {'class_name': 'NumericColumn', 'config': {'key': 'Tile74', 'shape': (1,), 'default_value': None, 'dtype': 'float64', 'normalizer_fn': None}}, {'class_name': 'NumericColumn', 'config': {'key': 'Tile75', 'shape': (1,), 'default_value': None, 'dtype': 'float64', 'normalizer_fn': None}}, {'class_name': 'NumericColumn', 'config': {'key': 'Tile76', 'shape': (1,), 'default_value': None, 'dtype': 'float64', 'normalizer_fn': None}}, {'class_name': 'NumericColumn', 'config': {'key': 'Tile77', 'shape': (1,), 'default_value': None, 'dtype': 'float64', 'normalizer_fn': None}}, {'class_name': 'NumericColumn', 'config': {'key': 'Tile78', 'shape': (1,), 'default_value': None, 'dtype': 'float64', 'normalizer_fn': None}}, {'class_name': 'NumericColumn', 'config': {'key': 'Tile79', 'shape': (1,), 'default_value': None, 'dtype': 'float64', 'normalizer_fn': None}}, {'class_name': 'NumericColumn', 'config': {'key': 'Tile8', 'shape': (1,), 'default_value': None, 'dtype': 'float64', 'normalizer_fn': None}}, {'class_name': 'NumericColumn', 'config': {'key': 'Tile80', 'shape': (1,), 'default_value': None, 'dtype': 'float64', 'normalizer_fn': None}}, {'class_name': 'NumericColumn', 'config': {'key': 'Tile81', 'shape': (1,), 'default_value': None, 'dtype': 'float64', 'normalizer_fn': None}}, {'class_name': 'NumericColumn', 'config': {'key': 'Tile82', 'shape': (1,), 'default_value': None, 'dtype': 'float64', 'normalizer_fn': None}}, {'class_name': 'NumericColumn', 'config': {'key': 'Tile83', 'shape': (1,), 'default_value': None, 'dtype': 'float64', 'normalizer_fn': None}}, {'class_name': 'NumericColumn', 'config': {'key': 'Tile84', 'shape': (1,), 'default_value': None, 'dtype': 'float64', 'normalizer_fn': None}}, {'class_name': 'NumericColumn', 'config': {'key': 'Tile85', 'shape': (1,), 'default_value': None, 'dtype': 'float64', 'normalizer_fn': None}}, {'class_name': 'NumericColumn', 'config': {'key': 'Tile86', 'shape': (1,), 'default_value': None, 'dtype': 'float64', 'normalizer_fn': None}}, {'class_name': 'NumericColumn', 'config': {'key': 'Tile87', 'shape': (1,), 'default_value': None, 'dtype': 'float64', 'normalizer_fn': None}}, {'class_name': 'NumericColumn', 'config': {'key': 'Tile88', 'shape': (1,), 'default_value': None, 'dtype': 'float64', 'normalizer_fn': None}}, {'class_name': 'NumericColumn', 'config': {'key': 'Tile89', 'shape': (1,), 'default_value': None, 'dtype': 'float64', 'normalizer_fn': None}}, {'class_name': 'NumericColumn', 'config': {'key': 'Tile9', 'shape': (1,), 'default_value': None, 'dtype': 'float64', 'normalizer_fn': None}}, {'class_name': 'NumericColumn', 'config': {'key': 'Tile90', 'shape': (1,), 'default_value': None, 'dtype': 'float64', 'normalizer_fn': None}}, {'class_name': 'NumericColumn', 'config': {'key': 'Tile91', 'shape': (1,), 'default_value': None, 'dtype': 'float64', 'normalizer_fn': None}}, {'class_name': 'NumericColumn', 'config': {'key': 'Tile92', 'shape': (1,), 'default_value': None, 'dtype': 'float64', 'normalizer_fn': None}}, {'class_name': 'NumericColumn', 'config': {'key': 'Tile93', 'shape': (1,), 'default_value': None, 'dtype': 'float64', 'normalizer_fn': None}}, {'class_name': 'NumericColumn', 'config': {'key': 'Tile94', 'shape': (1,), 'default_value': None, 'dtype': 'float64', 'normalizer_fn': None}}, {'class_name': 'NumericColumn', 'config': {'key': 'Tile95', 'shape': (1,), 'default_value': None, 'dtype': 'float64', 'normalizer_fn': None}}, {'class_name': 'NumericColumn', 'config': {'key': 'Tile96', 'shape': (1,), 'default_value': None, 'dtype': 'float64', 'normalizer_fn': None}}, {'class_name': 'NumericColumn', 'config': {'key': 'Tile97', 'shape': (1,), 'default_value': None, 'dtype': 'float64', 'normalizer_fn': None}}, {'class_name': 'NumericColumn', 'config': {'key': 'Tile98', 'shape': (1,), 'default_value': None, 'dtype': 'float64', 'normalizer_fn': None}}, {'class_name': 'NumericColumn', 'config': {'key': 'Tile99', 'shape': (1,), 'default_value': None, 'dtype': 'float64', 'normalizer_fn': None}}]}}, {'class_name': 'Dense', 'config': {'name': 'Hidden1', 'trainable': True, 'dtype': 'float32', 'units': 24, 'activation': 'relu', 'use_bias': True, 'kernel_initializer': {'class_name': 'GlorotUniform', 'config': {'seed': None}}, 'bias_initializer': {'class_name': 'Zeros', 'config': {}}, 'kernel_regularizer': None, 'bias_regularizer': None, 'activity_regularizer': None, 'kernel_constraint': None, 'bias_constraint': None}}, {'class_name': 'Dense', 'config': {'name': 'Hidden2', 'trainable': True, 'dtype': 'float32', 'units': 12, 'activation': 'relu', 'use_bias': True, 'kernel_initializer': {'class_name': 'GlorotUniform', 'config': {'seed': None}}, 'bias_initializer': {'class_name': 'Zeros', 'config': {}}, 'kernel_regularizer': None, 'bias_regularizer': None, 'activity_regularizer': None, 'kernel_constraint': None, 'bias_constraint': None}}, {'class_name': 'Dense', 'config': {'name': 'Output', 'trainable': True, 'dtype': 'float32', 'units': 1, 'activation': 'linear', 'use_bias': True, 'kernel_initializer': {'class_name': 'GlorotUniform', 'config': {'seed': None}}, 'bias_initializer': {'class_name': 'Zeros', 'config': {}}, 'kernel_regularizer': None, 'bias_regularizer': None, 'activity_regularizer': None, 'kernel_constraint': None, 'bias_constraint': None}}], 'build_input_shape': (None,)}\n"
     ]
    }
   ],
   "source": [
    "print(my_model.get_config());"
   ]
  },
  {
   "cell_type": "code",
   "execution_count": null,
   "metadata": {},
   "outputs": [],
   "source": []
  }
 ],
 "metadata": {
  "kernelspec": {
   "display_name": "Python 3",
   "language": "python",
   "name": "python3"
  },
  "language_info": {
   "codemirror_mode": {
    "name": "ipython",
    "version": 3
   },
   "file_extension": ".py",
   "mimetype": "text/x-python",
   "name": "python",
   "nbconvert_exporter": "python",
   "pygments_lexer": "ipython3",
   "version": "3.7.6"
  }
 },
 "nbformat": 4,
 "nbformat_minor": 4
}
